{
  "nbformat": 4,
  "nbformat_minor": 0,
  "metadata": {
    "colab": {
      "provenance": [],
      "authorship_tag": "ABX9TyMEgQKe+j52+G20S37lZiwR",
      "include_colab_link": true
    },
    "kernelspec": {
      "name": "python3",
      "display_name": "Python 3"
    },
    "language_info": {
      "name": "python"
    }
  },
  "cells": [
    {
      "cell_type": "markdown",
      "metadata": {
        "id": "view-in-github",
        "colab_type": "text"
      },
      "source": [
        "<a href=\"https://colab.research.google.com/github/fernanda-mv/AnalisisdeDatosUQ/blob/main/Github_1.ipynb\" target=\"_parent\"><img src=\"https://colab.research.google.com/assets/colab-badge.svg\" alt=\"Open In Colab\"/></a>"
      ]
    },
    {
      "cell_type": "code",
      "execution_count": 2,
      "metadata": {
        "colab": {
          "base_uri": "https://localhost:8080/"
        },
        "id": "bq66MLQv8YFc",
        "outputId": "1d01440f-32c2-4e28-ad6c-d0c0c80b68bb"
      },
      "outputs": [
        {
          "output_type": "stream",
          "name": "stdout",
          "text": [
            "[1, 2, 3, 4, 5]\n"
          ]
        }
      ],
      "source": [
        "# Este es el primer codigo\n",
        "# Crear una lista\n",
        "mi_lista = [1, 2, 3, 4, 5]\n",
        "\n",
        "# Mostrar la lista\n",
        "print (mi_lista)"
      ]
    },
    {
      "cell_type": "code",
      "source": [
        "# Crear otra lista\n",
        "otra_lista = [\"manzana\", \"banana\", \"cereza\"]\n",
        "\n",
        "# Mostrar la otra lista\n",
        "print(otra_lista)"
      ],
      "metadata": {
        "colab": {
          "base_uri": "https://localhost:8080/"
        },
        "id": "_cZuWJ22B3WC",
        "outputId": "05e9c800-f7ba-48d4-ca73-aec744094a89"
      },
      "execution_count": 3,
      "outputs": [
        {
          "output_type": "stream",
          "name": "stdout",
          "text": [
            "['manzana', 'banana', 'cereza']\n"
          ]
        }
      ]
    },
    {
      "cell_type": "code",
      "source": [
        "midiccionario = {\"123456\":\"JUliRODAS\",\n",
        "                \"7891011\":\"samuelGomez\",\n",
        "                \"1357934\": \"josefina\"}\n",
        "print(midiccionario)"
      ],
      "metadata": {
        "colab": {
          "base_uri": "https://localhost:8080/"
        },
        "id": "OLQBZOwQEAc0",
        "outputId": "214ac8d1-825b-4dfb-af24-6c439ee0b5b1"
      },
      "execution_count": 7,
      "outputs": [
        {
          "output_type": "stream",
          "name": "stdout",
          "text": [
            "{'123456': 'JUliRODAS', '7891011': 'samuelGomez', '1357934': 'josefina'}\n"
          ]
        }
      ]
    },
    {
      "cell_type": "code",
      "source": [
        "otro_diccionario = {1: [\"1,2,3,4,5\"],\n",
        "                   2: [\"5,6,7,8,9\"],\n",
        "                    3: {\"1:2,2:3\"}\n",
        "                    }\n",
        "print(otro_diccionario)\n"
      ],
      "metadata": {
        "colab": {
          "base_uri": "https://localhost:8080/"
        },
        "id": "K9ud-GQhFAyz",
        "outputId": "5e38fab1-7925-4dc7-e493-e79240c2aa10"
      },
      "execution_count": 21,
      "outputs": [
        {
          "output_type": "stream",
          "name": "stdout",
          "text": [
            "{1: ['1,2,3,4,5'], 2: ['5,6,7,8,9'], 3: {'1:2,2:3'}}\n"
          ]
        }
      ]
    },
    {
      "cell_type": "code",
      "source": [
        "diccionario_complejo = { 1 : [1,2,3,4,5,[5,6,7,8,9,[6,7,8]]],\n",
        "2: [5,6,7,8,9],\n",
        "3: {1:2,2:3,6:[9,10,'extraer este valor']}\n",
        "}"
      ],
      "metadata": {
        "id": "e8t0zATHHyEa"
      },
      "execution_count": 28,
      "outputs": []
    },
    {
      "cell_type": "code",
      "source": [
        "diccionario_complejo[1][5][5][2]"
      ],
      "metadata": {
        "colab": {
          "base_uri": "https://localhost:8080/"
        },
        "id": "zSZr_3jsIrMH",
        "outputId": "f88186ae-ff37-4ee3-8fa2-6a32739e81a3"
      },
      "execution_count": 29,
      "outputs": [
        {
          "output_type": "execute_result",
          "data": {
            "text/plain": [
              "8"
            ]
          },
          "metadata": {},
          "execution_count": 29
        }
      ]
    },
    {
      "cell_type": "code",
      "source": [
        "diccionario_complejo[3][6][2]"
      ],
      "metadata": {
        "colab": {
          "base_uri": "https://localhost:8080/",
          "height": 35
        },
        "id": "EpM0_s69I4rJ",
        "outputId": "879ca63e-64b4-4f1b-fbfb-e1a066d4deb9"
      },
      "execution_count": 30,
      "outputs": [
        {
          "output_type": "execute_result",
          "data": {
            "text/plain": [
              "'extraer este valor'"
            ],
            "application/vnd.google.colaboratory.intrinsic+json": {
              "type": "string"
            }
          },
          "metadata": {},
          "execution_count": 30
        }
      ]
    },
    {
      "cell_type": "code",
      "source": [],
      "metadata": {
        "id": "MSw4-ce1L-nh"
      },
      "execution_count": null,
      "outputs": []
    },
    {
      "cell_type": "code",
      "source": [],
      "metadata": {
        "id": "lVMJexk_L-3t"
      },
      "execution_count": null,
      "outputs": []
    },
    {
      "cell_type": "code",
      "source": [
        "#por medios de concicionales crear un sistema de calificacion\n",
        "#1. crear un diccionaria donde van a guardar los nombres\n",
        "#y la nota de 5 estudiantes\n",
        "#2. por medio de condicionales vana crear un sistema que permita\n",
        "#definir si la perosna gano o perdio la amteria y si tiene derecho\n",
        "#habilitar o jo\n"
      ],
      "metadata": {
        "id": "hIPfJhc_I4RZ"
      },
      "execution_count": null,
      "outputs": []
    },
    {
      "cell_type": "code",
      "source": [
        "# 1. Diccionario con nombres y notas\n",
        "estudiantes = {\n",
        "    \"Samuel\": 3.5,\n",
        "    \"Niño\": 2.8,\n",
        "    \"Julian\": 2.9,\n",
        "    \"Sergio\": 1.9,\n",
        "    \"Montoya\": 2.0\n",
        "}"
      ],
      "metadata": {
        "id": "FHfufOxEMoeU"
      },
      "execution_count": 34,
      "outputs": []
    },
    {
      "cell_type": "code",
      "source": [
        "# 2. Sistema de calificación con condicionales\n",
        "for nombre, nota in estudiantes.items():\n",
        "    print(f\"\\nEstudiante: {nombre}\")\n",
        "    print(f\"Nota: {nota}\")\n",
        "\n",
        "    if nota >= 3.0:\n",
        "        print(\"Ganó la materia.\")\n",
        "    elif 2.0 <= nota < 3.0:\n",
        "        print(\"Perdió la materia, pero puede habilitar.\")\n",
        "    else:\n",
        "        print(\"Perdió la materia y no puede habilitar.\")"
      ],
      "metadata": {
        "colab": {
          "base_uri": "https://localhost:8080/"
        },
        "id": "Yu-Kos-VMyuh",
        "outputId": "72a6a44d-258f-45b9-c13f-9c3d5440eb59"
      },
      "execution_count": 35,
      "outputs": [
        {
          "output_type": "stream",
          "name": "stdout",
          "text": [
            "\n",
            "Estudiante: Samuel\n",
            "Nota: 3.5\n",
            "Ganó la materia.\n",
            "\n",
            "Estudiante: Niño\n",
            "Nota: 2.8\n",
            "Perdió la materia, pero puede habilitar.\n",
            "\n",
            "Estudiante: Julian\n",
            "Nota: 2.9\n",
            "Perdió la materia, pero puede habilitar.\n",
            "\n",
            "Estudiante: Sergio\n",
            "Nota: 1.9\n",
            "Perdió la materia y no puede habilitar.\n",
            "\n",
            "Estudiante: Montoya\n",
            "Nota: 2.0\n",
            "Perdió la materia, pero puede habilitar.\n"
          ]
        }
      ]
    }
  ]
}