{
  "nbformat": 4,
  "nbformat_minor": 0,
  "metadata": {
    "colab": {
      "provenance": [],
      "authorship_tag": "ABX9TyMARiEmyoF/Y4MNIS+nVhKl",
      "include_colab_link": true
    },
    "kernelspec": {
      "name": "python3",
      "display_name": "Python 3"
    },
    "language_info": {
      "name": "python"
    }
  },
  "cells": [
    {
      "cell_type": "markdown",
      "metadata": {
        "id": "view-in-github",
        "colab_type": "text"
      },
      "source": [
        "<a href=\"https://colab.research.google.com/github/fernanda-mv/AnalisisdeDatosUQ/blob/main/Github_1.ipynb\" target=\"_parent\"><img src=\"https://colab.research.google.com/assets/colab-badge.svg\" alt=\"Open In Colab\"/></a>"
      ]
    },
    {
      "cell_type": "code",
      "execution_count": 2,
      "metadata": {
        "colab": {
          "base_uri": "https://localhost:8080/"
        },
        "id": "bq66MLQv8YFc",
        "outputId": "1d01440f-32c2-4e28-ad6c-d0c0c80b68bb"
      },
      "outputs": [
        {
          "output_type": "stream",
          "name": "stdout",
          "text": [
            "[1, 2, 3, 4, 5]\n"
          ]
        }
      ],
      "source": [
        "# Este es el primer codigo\n",
        "# Crear una lista\n",
        "mi_lista = [1, 2, 3, 4, 5]\n",
        "\n",
        "# Mostrar la lista\n",
        "print (mi_lista)"
      ]
    },
    {
      "cell_type": "code",
      "source": [
        "# Crear otra lista\n",
        "otra_lista = [\"manzana\", \"banana\", \"cereza\"]\n",
        "\n",
        "# Mostrar la otra lista\n",
        "print(otra_lista)"
      ],
      "metadata": {
        "id": "_cZuWJ22B3WC",
        "outputId": "05e9c800-f7ba-48d4-ca73-aec744094a89",
        "colab": {
          "base_uri": "https://localhost:8080/"
        }
      },
      "execution_count": 3,
      "outputs": [
        {
          "output_type": "stream",
          "name": "stdout",
          "text": [
            "['manzana', 'banana', 'cereza']\n"
          ]
        }
      ]
    }
  ]
}