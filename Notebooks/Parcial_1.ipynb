{
 "cells": [
  {
   "cell_type": "markdown",
   "id": "ce624581",
   "metadata": {},
   "source": [
    "PARCIAL I - Maria Fernanda Mora Varón\n",
    "\n",
    "Nota : El factor de expancion es F_EXP"
   ]
  },
  {
   "cell_type": "code",
   "execution_count": 1,
   "id": "16b0946a",
   "metadata": {},
   "outputs": [],
   "source": [
    "#Importanto las librerias necesarias para el analisi de la GEIH\n",
    "import pandas as pd\n",
    "import numpy as np"
   ]
  },
  {
   "cell_type": "code",
   "execution_count": 2,
   "id": "fdd6a1fb",
   "metadata": {},
   "outputs": [],
   "source": [
    "#Importar datos \n",
    "df_emicron=pd.read_csv(\"https://github.com/niconomist98/DataAnalyticsUQ/raw/refs/heads/main/Datos/EMICRON/emicron_identificacion.csv\", encoding=\"latin\", sep=\",\")"
   ]
  },
  {
   "cell_type": "code",
   "execution_count": 3,
   "id": "b30eec30",
   "metadata": {},
   "outputs": [
    {
     "data": {
      "text/html": [
       "<div>\n",
       "<style scoped>\n",
       "    .dataframe tbody tr th:only-of-type {\n",
       "        vertical-align: middle;\n",
       "    }\n",
       "\n",
       "    .dataframe tbody tr th {\n",
       "        vertical-align: top;\n",
       "    }\n",
       "\n",
       "    .dataframe thead th {\n",
       "        text-align: right;\n",
       "    }\n",
       "</style>\n",
       "<table border=\"1\" class=\"dataframe\">\n",
       "  <thead>\n",
       "    <tr style=\"text-align: right;\">\n",
       "      <th></th>\n",
       "      <th>DIRECTORIO</th>\n",
       "      <th>SECUENCIA_P</th>\n",
       "      <th>SECUENCIA_ENCUESTA</th>\n",
       "      <th>COD_DEPTO</th>\n",
       "      <th>AREA</th>\n",
       "      <th>CLASE_TE</th>\n",
       "      <th>P35</th>\n",
       "      <th>P241</th>\n",
       "      <th>MES_REF</th>\n",
       "      <th>P3031</th>\n",
       "      <th>P3032_1</th>\n",
       "      <th>P3032_2</th>\n",
       "      <th>P3032_3</th>\n",
       "      <th>P3033</th>\n",
       "      <th>P3034</th>\n",
       "      <th>P3035</th>\n",
       "      <th>P3000</th>\n",
       "      <th>GRUPOS4</th>\n",
       "      <th>GRUPOS12</th>\n",
       "      <th>F_EXP</th>\n",
       "    </tr>\n",
       "  </thead>\n",
       "  <tbody>\n",
       "    <tr>\n",
       "      <th>0</th>\n",
       "      <td>7627444</td>\n",
       "      <td>1</td>\n",
       "      <td>1</td>\n",
       "      <td>44</td>\n",
       "      <td>NaN</td>\n",
       "      <td>2</td>\n",
       "      <td>2</td>\n",
       "      <td>33</td>\n",
       "      <td>ENERO</td>\n",
       "      <td>2</td>\n",
       "      <td>NaN</td>\n",
       "      <td>NaN</td>\n",
       "      <td>NaN</td>\n",
       "      <td>2</td>\n",
       "      <td>240</td>\n",
       "      <td>2</td>\n",
       "      <td>2</td>\n",
       "      <td>2</td>\n",
       "      <td>3</td>\n",
       "      <td>60.050515</td>\n",
       "    </tr>\n",
       "    <tr>\n",
       "      <th>1</th>\n",
       "      <td>7627446</td>\n",
       "      <td>1</td>\n",
       "      <td>1</td>\n",
       "      <td>44</td>\n",
       "      <td>NaN</td>\n",
       "      <td>2</td>\n",
       "      <td>1</td>\n",
       "      <td>31</td>\n",
       "      <td>ENERO</td>\n",
       "      <td>2</td>\n",
       "      <td>NaN</td>\n",
       "      <td>NaN</td>\n",
       "      <td>NaN</td>\n",
       "      <td>2</td>\n",
       "      <td>166</td>\n",
       "      <td>2</td>\n",
       "      <td>2</td>\n",
       "      <td>1</td>\n",
       "      <td>1</td>\n",
       "      <td>86.341075</td>\n",
       "    </tr>\n",
       "    <tr>\n",
       "      <th>2</th>\n",
       "      <td>7627449</td>\n",
       "      <td>1</td>\n",
       "      <td>1</td>\n",
       "      <td>68</td>\n",
       "      <td>NaN</td>\n",
       "      <td>1</td>\n",
       "      <td>2</td>\n",
       "      <td>42</td>\n",
       "      <td>ENERO</td>\n",
       "      <td>2</td>\n",
       "      <td>NaN</td>\n",
       "      <td>NaN</td>\n",
       "      <td>NaN</td>\n",
       "      <td>2</td>\n",
       "      <td>60</td>\n",
       "      <td>2</td>\n",
       "      <td>2</td>\n",
       "      <td>3</td>\n",
       "      <td>5</td>\n",
       "      <td>139.884518</td>\n",
       "    </tr>\n",
       "    <tr>\n",
       "      <th>3</th>\n",
       "      <td>7627453</td>\n",
       "      <td>1</td>\n",
       "      <td>2</td>\n",
       "      <td>68</td>\n",
       "      <td>NaN</td>\n",
       "      <td>1</td>\n",
       "      <td>2</td>\n",
       "      <td>41</td>\n",
       "      <td>ENERO</td>\n",
       "      <td>2</td>\n",
       "      <td>NaN</td>\n",
       "      <td>NaN</td>\n",
       "      <td>NaN</td>\n",
       "      <td>2</td>\n",
       "      <td>60</td>\n",
       "      <td>2</td>\n",
       "      <td>2</td>\n",
       "      <td>4</td>\n",
       "      <td>7</td>\n",
       "      <td>168.635440</td>\n",
       "    </tr>\n",
       "    <tr>\n",
       "      <th>4</th>\n",
       "      <td>7627456</td>\n",
       "      <td>1</td>\n",
       "      <td>3</td>\n",
       "      <td>68</td>\n",
       "      <td>NaN</td>\n",
       "      <td>1</td>\n",
       "      <td>1</td>\n",
       "      <td>18</td>\n",
       "      <td>ENERO</td>\n",
       "      <td>2</td>\n",
       "      <td>NaN</td>\n",
       "      <td>NaN</td>\n",
       "      <td>NaN</td>\n",
       "      <td>2</td>\n",
       "      <td>9</td>\n",
       "      <td>2</td>\n",
       "      <td>2</td>\n",
       "      <td>4</td>\n",
       "      <td>6</td>\n",
       "      <td>64.659273</td>\n",
       "    </tr>\n",
       "  </tbody>\n",
       "</table>\n",
       "</div>"
      ],
      "text/plain": [
       "   DIRECTORIO  SECUENCIA_P  SECUENCIA_ENCUESTA  COD_DEPTO  AREA  CLASE_TE  \\\n",
       "0     7627444            1                   1         44   NaN         2   \n",
       "1     7627446            1                   1         44   NaN         2   \n",
       "2     7627449            1                   1         68   NaN         1   \n",
       "3     7627453            1                   2         68   NaN         1   \n",
       "4     7627456            1                   3         68   NaN         1   \n",
       "\n",
       "   P35  P241 MES_REF  P3031  P3032_1  P3032_2  P3032_3  P3033  P3034  P3035  \\\n",
       "0    2    33   ENERO      2      NaN      NaN      NaN      2    240      2   \n",
       "1    1    31   ENERO      2      NaN      NaN      NaN      2    166      2   \n",
       "2    2    42   ENERO      2      NaN      NaN      NaN      2     60      2   \n",
       "3    2    41   ENERO      2      NaN      NaN      NaN      2     60      2   \n",
       "4    1    18   ENERO      2      NaN      NaN      NaN      2      9      2   \n",
       "\n",
       "   P3000  GRUPOS4  GRUPOS12       F_EXP  \n",
       "0      2        2         3   60.050515  \n",
       "1      2        1         1   86.341075  \n",
       "2      2        3         5  139.884518  \n",
       "3      2        4         7  168.635440  \n",
       "4      2        4         6   64.659273  "
      ]
     },
     "execution_count": 3,
     "metadata": {},
     "output_type": "execute_result"
    }
   ],
   "source": [
    "df_emicron.head()"
   ]
  },
  {
   "cell_type": "code",
   "execution_count": 4,
   "id": "5281729d",
   "metadata": {},
   "outputs": [
    {
     "name": "stdout",
     "output_type": "stream",
     "text": [
      "Población total expandida: 5297251\n"
     ]
    }
   ],
   "source": [
    "total = df_emicron[\"F_EXP\"].sum()\n",
    "print(\"Población total expandida:\", int(total))\n"
   ]
  },
  {
   "cell_type": "markdown",
   "id": "21bad944",
   "metadata": {},
   "source": [
    "PREGUNTAS : \n",
    "1. ¿Cuantos micronegocios existen en el quindio cuyos propietarios son hombres del quindio son entre 18 y 30 años ?"
   ]
  },
  {
   "cell_type": "code",
   "execution_count": 6,
   "id": "12a079a9",
   "metadata": {},
   "outputs": [
    {
     "name": "stdout",
     "output_type": "stream",
     "text": [
      "Micronegocios en Quindío con propietarios hombres de 18 a 30 años: 1929\n"
     ]
    }
   ],
   "source": [
    "# Filtrar Quindío (COD_DEPTO=63), hombres (P35=1), edad entre 18 y 30\n",
    "filtro = df_emicron[\n",
    "    (df_emicron[\"COD_DEPTO\"] == 63) &\n",
    "    (df_emicron[\"P35\"] == 1) &\n",
    "    (df_emicron[\"P241\"].between(18, 30))\n",
    "]\n",
    "\n",
    "# Calcular micronegocios expandidos\n",
    "total_quindio_hombres_18_30 = filtro[\"F_EXP\"].sum()\n",
    "\n",
    "print(\"Micronegocios en Quindío con propietarios hombres de 18 a 30 años:\",\n",
    "      round(total_quindio_hombres_18_30))\n"
   ]
  },
  {
   "cell_type": "markdown",
   "id": "4d9ed297",
   "metadata": {},
   "source": [
    "2. ¿cuantos micronegocios de la industria manufacturera existen en el departanmento de risaralda, cuyos propietarias son mujeres entre los 20 y 30 años?\n"
   ]
  },
  {
   "cell_type": "code",
   "execution_count": 14,
   "id": "19fd026c",
   "metadata": {},
   "outputs": [
    {
     "name": "stdout",
     "output_type": "stream",
     "text": [
      "Micronegocios de la industria manufacturera en Risaralda con propietarias mujeres de 20 a 30 años: 0\n"
     ]
    }
   ],
   "source": [
    "# Filtrar micronegocios en Risaralda, mujeres 20-30 años, industria manufacturera\n",
    "filtro_manuf = df_emicron[\n",
    "    (df_emicron[\"COD_DEPTO\"] == 66) &   # Risaralda\n",
    "    (df_emicron[\"P35\"] == 2) &          # Mujeres\n",
    "    (df_emicron[\"P241\"].between(20, 30)) &  # Edad 20 a 30\n",
    "    (df_emicron[\"P3031\"].between(10, 33))   # Industria manufacturera CIIU\n",
    "]\n",
    "\n",
    "# Calcular micronegocios expandidos\n",
    "total_risaralda_mujeres_20_30 = filtro_manuf[\"F_EXP\"].sum()\n",
    "\n",
    "print(\"Micronegocios de la industria manufacturera en Risaralda con propietarias mujeres de 20 a 30 años:\",\n",
    "      round(total_risaralda_mujeres_20_30))\n"
   ]
  },
  {
   "cell_type": "code",
   "execution_count": 15,
   "id": "02671f70",
   "metadata": {},
   "outputs": [
    {
     "name": "stdout",
     "output_type": "stream",
     "text": [
      "0\n",
      "Empty DataFrame\n",
      "Columns: [DIRECTORIO, SECUENCIA_P, SECUENCIA_ENCUESTA, COD_DEPTO, AREA, CLASE_TE, P35, P241, MES_REF, P3031, P3032_1, P3032_2, P3032_3, P3033, P3034, P3035, P3000, GRUPOS4, GRUPOS12, F_EXP]\n",
      "Index: []\n"
     ]
    }
   ],
   "source": [
    "# Ver cuántos registros cumplen las condiciones (sin expandir)\n",
    "print(filtro_manuf.shape[0])\n",
    "\n",
    "# Si quieres ver los primeros casos\n",
    "print(filtro_manuf.head())\n"
   ]
  },
  {
   "cell_type": "code",
   "execution_count": 16,
   "id": "32c6d087",
   "metadata": {},
   "outputs": [
    {
     "name": "stdout",
     "output_type": "stream",
     "text": [
      "P3031\n",
      "2    6299\n",
      "1    1424\n",
      "Name: count, dtype: int64\n",
      "2491\n"
     ]
    }
   ],
   "source": [
    "print(df_emicron[df_emicron[\"COD_DEPTO\"].isin([17,66,63])][\"P3031\"].value_counts())\n",
    "print(df_emicron[(df_emicron[\"COD_DEPTO\"].isin([17,66,63])) & \n",
    "                 (df_emicron[\"P35\"]==2) & \n",
    "                 (df_emicron[\"P3031\"]==2)].shape[0])\n"
   ]
  },
  {
   "cell_type": "code",
   "execution_count": 17,
   "id": "3efe3d71",
   "metadata": {},
   "outputs": [
    {
     "name": "stdout",
     "output_type": "stream",
     "text": [
      "Edad mínima: 18\n",
      "Edad máxima: 89\n",
      "Distribución de edades:\n",
      " P241\n",
      "18     5\n",
      "19    13\n",
      "20    17\n",
      "21    25\n",
      "22    26\n",
      "23    31\n",
      "24    31\n",
      "25    31\n",
      "26    42\n",
      "27    42\n",
      "28    47\n",
      "29    47\n",
      "30    51\n",
      "31    48\n",
      "32    57\n",
      "33    45\n",
      "34    47\n",
      "35    67\n",
      "36    45\n",
      "37    48\n",
      "Name: count, dtype: int64\n"
     ]
    }
   ],
   "source": [
    "edades_mujeres_comercio = df_emicron[\n",
    "    (df_emicron[\"COD_DEPTO\"].isin([17,66,63])) &\n",
    "    (df_emicron[\"P35\"]==2) &\n",
    "    (df_emicron[\"P3031\"]==2)\n",
    "][\"P241\"]\n",
    "\n",
    "print(\"Edad mínima:\", edades_mujeres_comercio.min())\n",
    "print(\"Edad máxima:\", edades_mujeres_comercio.max())\n",
    "print(\"Distribución de edades:\\n\", edades_mujeres_comercio.value_counts().sort_index().head(20))\n"
   ]
  },
  {
   "cell_type": "code",
   "execution_count": 18,
   "id": "f7a9190c",
   "metadata": {},
   "outputs": [
    {
     "name": "stdout",
     "output_type": "stream",
     "text": [
      "Micronegocios de la industria manufacturera en Risaralda con propietarias mujeres de 20 a 30 años: 507\n"
     ]
    }
   ],
   "source": [
    "# Micronegocios de industria manufacturera en Risaralda\n",
    "# con propietarias mujeres entre 20 y 30 años\n",
    "\n",
    "filtro_manuf_risaralda = df_emicron[\n",
    "    (df_emicron[\"COD_DEPTO\"] == 66) &   # Risaralda\n",
    "    (df_emicron[\"P35\"] == 2) &          # Mujeres\n",
    "    (df_emicron[\"P241\"].between(20, 30)) &  # Edad 20 a 30\n",
    "    (df_emicron[\"P3031\"] == 1)          # Industria manufacturera\n",
    "]\n",
    "\n",
    "# Calcular población expandida\n",
    "total_manuf_risaralda = filtro_manuf_risaralda[\"F_EXP\"].sum()\n",
    "\n",
    "print(\"Micronegocios de la industria manufacturera en Risaralda con propietarias mujeres de 20 a 30 años:\",\n",
    "      round(total_manuf_risaralda))\n"
   ]
  },
  {
   "cell_type": "markdown",
   "id": "093fe89d",
   "metadata": {},
   "source": [
    "3. ¿Entre las cuidades de manizales, pereira y armenia. Cual de las 3 tieene mas micronegocios del sector comercio, cuyas propetarias son mujeres mayores a 40 años?"
   ]
  },
  {
   "cell_type": "code",
   "execution_count": 9,
   "id": "78de2e0e",
   "metadata": {},
   "outputs": [
    {
     "name": "stdout",
     "output_type": "stream",
     "text": [
      "Micronegocios del sector comercio con propietarias mujeres >40 años:\n",
      "\n",
      "Empty DataFrame\n",
      "Columns: [COD_DEPTO, F_EXP, Ciudad]\n",
      "Index: []\n"
     ]
    }
   ],
   "source": [
    "# Filtro para las tres ciudades\n",
    "filtro_comercio = df_emicron[\n",
    "    (df_emicron[\"COD_DEPTO\"].isin([17, 66, 63])) &  # Manizales, Pereira, Armenia\n",
    "    (df_emicron[\"P35\"] == 2) &                      # Mujeres\n",
    "    (df_emicron[\"P241\"] > 40) &                     # Mayores de 40 años\n",
    "    (df_emicron[\"P3031\"].between(45, 47))           # Comercio (CIIU sección G)\n",
    "]\n",
    "\n",
    "# Agrupar por ciudad y sumar factores de expansión\n",
    "resultado = filtro_comercio.groupby(\"COD_DEPTO\")[\"F_EXP\"].sum().reset_index()\n",
    "\n",
    "# Mapeo de nombres de ciudades\n",
    "mapa_ciudades = {17: \"Manizales (Caldas)\", 66: \"Pereira (Risaralda)\", 63: \"Armenia (Quindío)\"}\n",
    "resultado[\"Ciudad\"] = resultado[\"COD_DEPTO\"].map(mapa_ciudades)\n",
    "\n",
    "# Ordenar de mayor a menor\n",
    "resultado = resultado.sort_values(\"F_EXP\", ascending=False)\n",
    "\n",
    "print(\"Micronegocios del sector comercio con propietarias mujeres >40 años:\\n\")\n",
    "print(resultado)\n"
   ]
  },
  {
   "cell_type": "code",
   "execution_count": 10,
   "id": "962181ff",
   "metadata": {},
   "outputs": [
    {
     "name": "stdout",
     "output_type": "stream",
     "text": [
      "P3031\n",
      "2    65276\n",
      "1    13225\n",
      "Name: count, dtype: int64\n"
     ]
    }
   ],
   "source": [
    "print(df_emicron[\"P3031\"].value_counts().head(20))\n"
   ]
  },
  {
   "cell_type": "code",
   "execution_count": 11,
   "id": "650337d4",
   "metadata": {},
   "outputs": [
    {
     "name": "stdout",
     "output_type": "stream",
     "text": [
      "Micronegocios del sector comercio con propietarias mujeres >40 años:\n",
      "\n",
      "   COD_DEPTO         F_EXP               Ciudad\n",
      "0         17  15138.066554   Manizales (Caldas)\n",
      "2         66  11978.137414  Pereira (Risaralda)\n",
      "1         63   7979.455291    Armenia (Quindío)\n"
     ]
    }
   ],
   "source": [
    "# Filtro comercio (P3031 = 2), mujeres >40, ciudades eje cafetero\n",
    "filtro_comercio = df_emicron[\n",
    "    (df_emicron[\"COD_DEPTO\"].isin([17, 66, 63])) &  # Manizales, Pereira, Armenia\n",
    "    (df_emicron[\"P35\"] == 2) &                      # Mujeres\n",
    "    (df_emicron[\"P241\"] > 40) &                     # Mayores de 40 años\n",
    "    (df_emicron[\"P3031\"] == 2)                      # Comercio\n",
    "]\n",
    "\n",
    "# Agrupar por ciudad y sumar con factor de expansión\n",
    "resultado = filtro_comercio.groupby(\"COD_DEPTO\")[\"F_EXP\"].sum().reset_index()\n",
    "\n",
    "# Mapeo de nombres de ciudades\n",
    "mapa_ciudades = {17: \"Manizales (Caldas)\", 66: \"Pereira (Risaralda)\", 63: \"Armenia (Quindío)\"}\n",
    "resultado[\"Ciudad\"] = resultado[\"COD_DEPTO\"].map(mapa_ciudades)\n",
    "\n",
    "# Ordenar de mayor a menor\n",
    "resultado = resultado.sort_values(\"F_EXP\", ascending=False)\n",
    "\n",
    "print(\"Micronegocios del sector comercio con propietarias mujeres >40 años:\\n\")\n",
    "print(resultado)\n"
   ]
  },
  {
   "cell_type": "markdown",
   "id": "11fcb174",
   "metadata": {},
   "source": [
    "4. ¿En la cuidad de armenia, cuantos micronegocios hay cuyos propetrios son hombres que no tiene  nombre comercial?"
   ]
  },
  {
   "cell_type": "code",
   "execution_count": 19,
   "id": "e6293fde",
   "metadata": {},
   "outputs": [
    {
     "name": "stdout",
     "output_type": "stream",
     "text": [
      "Micronegocios en Armenia con propietarios hombres y sin nombre comercial: 17566\n"
     ]
    }
   ],
   "source": [
    "# Micronegocios en Armenia con propietarios hombres y sin nombre comercial\n",
    "filtro_armenia = df_emicron[\n",
    "    (df_emicron[\"COD_DEPTO\"] == 63) &   # Armenia (Quindío)\n",
    "    (df_emicron[\"P35\"] == 1) &          # Hombres\n",
    "    (df_emicron[\"P3033\"] == 2)          # Sin nombre comercial\n",
    "]\n",
    "\n",
    "# Calcular población expandida\n",
    "total_armenia = filtro_armenia[\"F_EXP\"].sum()\n",
    "\n",
    "print(\"Micronegocios en Armenia con propietarios hombres y sin nombre comercial:\",\n",
    "      round(total_armenia))\n"
   ]
  }
 ],
 "metadata": {
  "kernelspec": {
   "display_name": "Python 3",
   "language": "python",
   "name": "python3"
  },
  "language_info": {
   "codemirror_mode": {
    "name": "ipython",
    "version": 3
   },
   "file_extension": ".py",
   "mimetype": "text/x-python",
   "name": "python",
   "nbconvert_exporter": "python",
   "pygments_lexer": "ipython3",
   "version": "3.12.1"
  }
 },
 "nbformat": 4,
 "nbformat_minor": 5
}
