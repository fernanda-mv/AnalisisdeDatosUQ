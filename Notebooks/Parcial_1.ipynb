{
 "cells": [
  {
   "cell_type": "markdown",
   "id": "ce624581",
   "metadata": {},
   "source": [
    "PARCIAL I - Maria Fernanda Mora Varón\n",
    "\n",
    "Nota : El factor de expancion es F_EXP"
   ]
  },
  {
   "cell_type": "code",
   "execution_count": 1,
   "id": "16b0946a",
   "metadata": {},
   "outputs": [],
   "source": [
    "#Importanto las librerias necesarias para el analisi de la GEIH\n",
    "import pandas as pd\n",
    "import numpy as np"
   ]
  },
  {
   "cell_type": "code",
   "execution_count": 2,
   "id": "fdd6a1fb",
   "metadata": {},
   "outputs": [],
   "source": [
    "#Importar datos \n",
    "df_emicron=pd.read_csv(\"https://github.com/niconomist98/DataAnalyticsUQ/raw/refs/heads/main/Datos/EMICRON/emicron_identificacion.csv\", encoding=\"latin\", sep=\",\")"
   ]
  },
  {
   "cell_type": "code",
   "execution_count": 3,
   "id": "b30eec30",
   "metadata": {},
   "outputs": [
    {
     "data": {
      "text/html": [
       "<div>\n",
       "<style scoped>\n",
       "    .dataframe tbody tr th:only-of-type {\n",
       "        vertical-align: middle;\n",
       "    }\n",
       "\n",
       "    .dataframe tbody tr th {\n",
       "        vertical-align: top;\n",
       "    }\n",
       "\n",
       "    .dataframe thead th {\n",
       "        text-align: right;\n",
       "    }\n",
       "</style>\n",
       "<table border=\"1\" class=\"dataframe\">\n",
       "  <thead>\n",
       "    <tr style=\"text-align: right;\">\n",
       "      <th></th>\n",
       "      <th>DIRECTORIO</th>\n",
       "      <th>SECUENCIA_P</th>\n",
       "      <th>SECUENCIA_ENCUESTA</th>\n",
       "      <th>COD_DEPTO</th>\n",
       "      <th>AREA</th>\n",
       "      <th>CLASE_TE</th>\n",
       "      <th>P35</th>\n",
       "      <th>P241</th>\n",
       "      <th>MES_REF</th>\n",
       "      <th>P3031</th>\n",
       "      <th>P3032_1</th>\n",
       "      <th>P3032_2</th>\n",
       "      <th>P3032_3</th>\n",
       "      <th>P3033</th>\n",
       "      <th>P3034</th>\n",
       "      <th>P3035</th>\n",
       "      <th>P3000</th>\n",
       "      <th>GRUPOS4</th>\n",
       "      <th>GRUPOS12</th>\n",
       "      <th>F_EXP</th>\n",
       "    </tr>\n",
       "  </thead>\n",
       "  <tbody>\n",
       "    <tr>\n",
       "      <th>0</th>\n",
       "      <td>7627444</td>\n",
       "      <td>1</td>\n",
       "      <td>1</td>\n",
       "      <td>44</td>\n",
       "      <td>NaN</td>\n",
       "      <td>2</td>\n",
       "      <td>2</td>\n",
       "      <td>33</td>\n",
       "      <td>ENERO</td>\n",
       "      <td>2</td>\n",
       "      <td>NaN</td>\n",
       "      <td>NaN</td>\n",
       "      <td>NaN</td>\n",
       "      <td>2</td>\n",
       "      <td>240</td>\n",
       "      <td>2</td>\n",
       "      <td>2</td>\n",
       "      <td>2</td>\n",
       "      <td>3</td>\n",
       "      <td>60.050515</td>\n",
       "    </tr>\n",
       "    <tr>\n",
       "      <th>1</th>\n",
       "      <td>7627446</td>\n",
       "      <td>1</td>\n",
       "      <td>1</td>\n",
       "      <td>44</td>\n",
       "      <td>NaN</td>\n",
       "      <td>2</td>\n",
       "      <td>1</td>\n",
       "      <td>31</td>\n",
       "      <td>ENERO</td>\n",
       "      <td>2</td>\n",
       "      <td>NaN</td>\n",
       "      <td>NaN</td>\n",
       "      <td>NaN</td>\n",
       "      <td>2</td>\n",
       "      <td>166</td>\n",
       "      <td>2</td>\n",
       "      <td>2</td>\n",
       "      <td>1</td>\n",
       "      <td>1</td>\n",
       "      <td>86.341075</td>\n",
       "    </tr>\n",
       "    <tr>\n",
       "      <th>2</th>\n",
       "      <td>7627449</td>\n",
       "      <td>1</td>\n",
       "      <td>1</td>\n",
       "      <td>68</td>\n",
       "      <td>NaN</td>\n",
       "      <td>1</td>\n",
       "      <td>2</td>\n",
       "      <td>42</td>\n",
       "      <td>ENERO</td>\n",
       "      <td>2</td>\n",
       "      <td>NaN</td>\n",
       "      <td>NaN</td>\n",
       "      <td>NaN</td>\n",
       "      <td>2</td>\n",
       "      <td>60</td>\n",
       "      <td>2</td>\n",
       "      <td>2</td>\n",
       "      <td>3</td>\n",
       "      <td>5</td>\n",
       "      <td>139.884518</td>\n",
       "    </tr>\n",
       "    <tr>\n",
       "      <th>3</th>\n",
       "      <td>7627453</td>\n",
       "      <td>1</td>\n",
       "      <td>2</td>\n",
       "      <td>68</td>\n",
       "      <td>NaN</td>\n",
       "      <td>1</td>\n",
       "      <td>2</td>\n",
       "      <td>41</td>\n",
       "      <td>ENERO</td>\n",
       "      <td>2</td>\n",
       "      <td>NaN</td>\n",
       "      <td>NaN</td>\n",
       "      <td>NaN</td>\n",
       "      <td>2</td>\n",
       "      <td>60</td>\n",
       "      <td>2</td>\n",
       "      <td>2</td>\n",
       "      <td>4</td>\n",
       "      <td>7</td>\n",
       "      <td>168.635440</td>\n",
       "    </tr>\n",
       "    <tr>\n",
       "      <th>4</th>\n",
       "      <td>7627456</td>\n",
       "      <td>1</td>\n",
       "      <td>3</td>\n",
       "      <td>68</td>\n",
       "      <td>NaN</td>\n",
       "      <td>1</td>\n",
       "      <td>1</td>\n",
       "      <td>18</td>\n",
       "      <td>ENERO</td>\n",
       "      <td>2</td>\n",
       "      <td>NaN</td>\n",
       "      <td>NaN</td>\n",
       "      <td>NaN</td>\n",
       "      <td>2</td>\n",
       "      <td>9</td>\n",
       "      <td>2</td>\n",
       "      <td>2</td>\n",
       "      <td>4</td>\n",
       "      <td>6</td>\n",
       "      <td>64.659273</td>\n",
       "    </tr>\n",
       "  </tbody>\n",
       "</table>\n",
       "</div>"
      ],
      "text/plain": [
       "   DIRECTORIO  SECUENCIA_P  SECUENCIA_ENCUESTA  COD_DEPTO  AREA  CLASE_TE  \\\n",
       "0     7627444            1                   1         44   NaN         2   \n",
       "1     7627446            1                   1         44   NaN         2   \n",
       "2     7627449            1                   1         68   NaN         1   \n",
       "3     7627453            1                   2         68   NaN         1   \n",
       "4     7627456            1                   3         68   NaN         1   \n",
       "\n",
       "   P35  P241 MES_REF  P3031  P3032_1  P3032_2  P3032_3  P3033  P3034  P3035  \\\n",
       "0    2    33   ENERO      2      NaN      NaN      NaN      2    240      2   \n",
       "1    1    31   ENERO      2      NaN      NaN      NaN      2    166      2   \n",
       "2    2    42   ENERO      2      NaN      NaN      NaN      2     60      2   \n",
       "3    2    41   ENERO      2      NaN      NaN      NaN      2     60      2   \n",
       "4    1    18   ENERO      2      NaN      NaN      NaN      2      9      2   \n",
       "\n",
       "   P3000  GRUPOS4  GRUPOS12       F_EXP  \n",
       "0      2        2         3   60.050515  \n",
       "1      2        1         1   86.341075  \n",
       "2      2        3         5  139.884518  \n",
       "3      2        4         7  168.635440  \n",
       "4      2        4         6   64.659273  "
      ]
     },
     "execution_count": 3,
     "metadata": {},
     "output_type": "execute_result"
    }
   ],
   "source": [
    "df_emicron.head()"
   ]
  },
  {
   "cell_type": "code",
   "execution_count": 4,
   "id": "5281729d",
   "metadata": {},
   "outputs": [
    {
     "name": "stdout",
     "output_type": "stream",
     "text": [
      "Población total expandida: 5297251\n"
     ]
    }
   ],
   "source": [
    "total = df_emicron[\"F_EXP\"].sum()\n",
    "print(\"Población total expandida:\", int(total))\n"
   ]
  },
  {
   "cell_type": "code",
   "execution_count": 11,
   "id": "00c5425f",
   "metadata": {},
   "outputs": [
    {
     "data": {
      "text/plain": [
       "Index(['DIRECTORIO', 'SECUENCIA_P', 'SECUENCIA_ENCUESTA', 'COD_DEPTO', 'AREA',\n",
       "       'CLASE_TE', 'P35', 'P241', 'MES_REF', 'P3031', 'P3032_1', 'P3032_2',\n",
       "       'P3032_3', 'P3033', 'P3034', 'P3035', 'P3000', 'GRUPOS4', 'GRUPOS12',\n",
       "       'F_EXP'],\n",
       "      dtype='object')"
      ]
     },
     "execution_count": 11,
     "metadata": {},
     "output_type": "execute_result"
    }
   ],
   "source": [
    "#Primero tenemos que determinar que variable vamso utilizar\n",
    "df_emicron.columns"
   ]
  },
  {
   "cell_type": "markdown",
   "id": "21bad944",
   "metadata": {},
   "source": [
    "PREGUNTAS : \n",
    "1. ¿Cuantos micronegocios existen en el quindio cuyos propietarios son hombres del quindio son entre 18 y 30 años ?"
   ]
  },
  {
   "cell_type": "code",
   "execution_count": 10,
   "id": "12a079a9",
   "metadata": {},
   "outputs": [
    {
     "name": "stdout",
     "output_type": "stream",
     "text": [
      "Los micronegocios que hay en el Quindío con propietarios hombres entre los 18 y 30 años: 1929\n"
     ]
    }
   ],
   "source": [
    "# Filtrar Quindío (COD_DEPTO=63), hombres (P35=1), edad entre 18 y 30\n",
    "filtro = df_emicron[\n",
    "    (df_emicron[\"COD_DEPTO\"] == 63) &\n",
    "    (df_emicron[\"P35\"] == 1) &\n",
    "    (df_emicron[\"P241\"].between(18, 30))\n",
    "]\n",
    "\n",
    "# Calcular micronegocios expandidos\n",
    "total_quindio_hombres_18_30 = filtro[\"F_EXP\"].sum()\n",
    "\n",
    "print(\"Los micronegocios que hay en el Quindío con propietarios hombres entre los 18 y 30 años:\",\n",
    "      round(total_quindio_hombres_18_30))\n"
   ]
  },
  {
   "cell_type": "markdown",
   "id": "4d9ed297",
   "metadata": {},
   "source": [
    "2. ¿cuantos micronegocios de la industria manufacturera existen en el departanmento de risaralda, cuyos propietarias son mujeres entre los 20 y 30 años?\n"
   ]
  },
  {
   "cell_type": "code",
   "execution_count": 14,
   "id": "f7a9190c",
   "metadata": {},
   "outputs": [
    {
     "name": "stdout",
     "output_type": "stream",
     "text": [
      "Los micronegocios de la industria manufacturera en Risaralda que son mujeres entre los 20 y 30 años : 471\n"
     ]
    }
   ],
   "source": [
    "# Micronegocios de industria manufacturera en Risaralda\n",
    "# con propietarias mujeres entre 20 y 30 años\n",
    "#Ahora agregamos la varibale de interes que es GRUPOS4 que nos permite saber de que sector es la microempresa\n",
    "#GRUPO4=2 Industria manufacturera \n",
    "\n",
    "#Agregamos estos codigos pero ojo no cambiamos el P35 a 2 para referirnos a mujeres y el DPTO a 66 para referirnos a Risaralda \n",
    "micronegocio_manu_fr = df_emicron[(df_emicron[\"COD_DEPTO\"] == 66) & (df_emicron[\"P35\"] == 2) & (df_emicron[\"P241\"].between(20, 30)) & \n",
    "                                  (df_emicron['GRUPOS4'] == 2)]\n",
    "\n",
    "\n",
    "# Calcular micronegocios con F_EXP\n",
    "total_microMFR = micronegocio_manu_fr[\"F_EXP\"].sum()\n",
    "\n",
    "print(f\"Los micronegocios de la industria manufacturera en Risaralda que son mujeres entre los 20 y 30 años :\", int(total_microMFR))"
   ]
  },
  {
   "cell_type": "markdown",
   "id": "093fe89d",
   "metadata": {},
   "source": [
    "3. ¿Entre las cuidades de manizales, pereira y armenia. Cual de las 3 tieene mas micronegocios del sector comercio, cuyas propetarias son mujeres mayores a 40 años?"
   ]
  },
  {
   "cell_type": "code",
   "execution_count": 16,
   "id": "6fbe8c47",
   "metadata": {},
   "outputs": [
    {
     "name": "stdout",
     "output_type": "stream",
     "text": [
      "Los micronegocios de Pereira son: 3827\n",
      "Los micronegocios de Armenia son: 2557\n",
      "Los micronegocios de Manizales son: 2636\n",
      "\n"
     ]
    }
   ],
   "source": [
    "#Ahora es lo mismp pero cambiamos \n",
    "#GRUPO4 = 3 para el comercio\n",
    "# usamos AREA para las ciudades de interes\n",
    "#Pereira es el primero \n",
    "micronegocio_COM_FP40 = df_emicron[(df_emicron[\"AREA\"] == 66) & (df_emicron[\"P35\"] == 2) & (df_emicron[\"P241\"] > 40) & \n",
    "                                  (df_emicron['GRUPOS4'] == 3)]\n",
    "\n",
    "total_microCOFP40 = micronegocio_COM_FP40['F_EXP'].sum()\n",
    "\n",
    "print(f'Los micronegocios de Pereira son:', int(total_microCOFP40))\n",
    "\n",
    "#Ahora con Armenia\n",
    "micronegocio_com_FA40 = df_emicron[(df_emicron[\"AREA\"] == 63) & (df_emicron[\"P35\"] == 2) & (df_emicron[\"P241\"] > 40) & \n",
    "                                  (df_emicron['GRUPOS4'] == 3)]\n",
    "\n",
    "total_microCOFA40 = micronegocio_com_FA40['F_EXP'].sum()\n",
    "\n",
    "print(f'Los micronegocios de Armenia son:', int(total_microCOFA40))\n",
    "\n",
    "#Ahora con manizales \n",
    "micronegocio_com_FM40 = df_emicron[(df_emicron[\"AREA\"] == 17) & (df_emicron[\"P35\"] == 2) & (df_emicron[\"P241\"] > 40) & \n",
    "                                  (df_emicron['GRUPOS4'] == 3)]\n",
    "\n",
    "total_microCOFM40 = micronegocio_com_FM40['F_EXP'].sum()\n",
    "\n",
    "print(f'Los micronegocios de Manizales son:',int(total_microCOFM40))\n",
    "print()"
   ]
  },
  {
   "cell_type": "markdown",
   "id": "11fcb174",
   "metadata": {},
   "source": [
    "4. ¿En la cuidad de armenia, cuantos micronegocios hay cuyos propetrios son hombres que no tiene  nombre comercial?"
   ]
  },
  {
   "cell_type": "code",
   "execution_count": 18,
   "id": "54137abf",
   "metadata": {},
   "outputs": [
    {
     "name": "stdout",
     "output_type": "stream",
     "text": [
      "EN Armenia hay un total de 11603 que son micronegocios cuyos propietarios son hombres y que no tiene nombre comercial\n"
     ]
    }
   ],
   "source": [
    "#Ya por ultimo utilicemos la nueva variable  P3035 esta nos determina si tiene nombre comercial o no \n",
    "# 1 para si y 2 para no\n",
    "\n",
    "micronegocioNN = df_emicron[(df_emicron[\"AREA\"] == 63) & (df_emicron[\"P35\"] == 1) & (df_emicron[\"P3035\"] == 2)]\n",
    "total_microNN = micronegocioNN['F_EXP'].sum()\n",
    "\n",
    "print(f'EN Armenia hay un total de', int(total_microNN), f'que son micronegocios cuyos propietarios son hombres y que no tiene nombre comercial')\n"
   ]
  }
 ],
 "metadata": {
  "kernelspec": {
   "display_name": "Python 3",
   "language": "python",
   "name": "python3"
  },
  "language_info": {
   "codemirror_mode": {
    "name": "ipython",
    "version": 3
   },
   "file_extension": ".py",
   "mimetype": "text/x-python",
   "name": "python",
   "nbconvert_exporter": "python",
   "pygments_lexer": "ipython3",
   "version": "3.12.1"
  }
 },
 "nbformat": 4,
 "nbformat_minor": 5
}
