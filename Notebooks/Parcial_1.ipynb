{
 "cells": [
  {
   "cell_type": "markdown",
   "id": "ce624581",
   "metadata": {},
   "source": [
    "PARCIAL I - Maria Fernanda Mora Varón\n",
    "\n",
    "Nota : El factor de expancion es F_EXP"
   ]
  },
  {
   "cell_type": "code",
   "execution_count": 2,
   "id": "16b0946a",
   "metadata": {},
   "outputs": [],
   "source": [
    "#Importanto las librerias necesarias para el analisi de la GEIH\n",
    "import pandas as pd\n",
    "import numpy as np"
   ]
  },
  {
   "cell_type": "code",
   "execution_count": 3,
   "id": "fdd6a1fb",
   "metadata": {},
   "outputs": [],
   "source": [
    "#Importar datos \n",
    "df_emicron=pd.read_csv(\"https://github.com/niconomist98/DataAnalyticsUQ/raw/refs/heads/main/Datos/EMICRON/emicron_identificacion.csv\", encoding=\"latin\", sep=\",\")"
   ]
  },
  {
   "cell_type": "code",
   "execution_count": 4,
   "id": "b30eec30",
   "metadata": {},
   "outputs": [
    {
     "data": {
      "text/html": [
       "<div>\n",
       "<style scoped>\n",
       "    .dataframe tbody tr th:only-of-type {\n",
       "        vertical-align: middle;\n",
       "    }\n",
       "\n",
       "    .dataframe tbody tr th {\n",
       "        vertical-align: top;\n",
       "    }\n",
       "\n",
       "    .dataframe thead th {\n",
       "        text-align: right;\n",
       "    }\n",
       "</style>\n",
       "<table border=\"1\" class=\"dataframe\">\n",
       "  <thead>\n",
       "    <tr style=\"text-align: right;\">\n",
       "      <th></th>\n",
       "      <th>DIRECTORIO</th>\n",
       "      <th>SECUENCIA_P</th>\n",
       "      <th>SECUENCIA_ENCUESTA</th>\n",
       "      <th>COD_DEPTO</th>\n",
       "      <th>AREA</th>\n",
       "      <th>CLASE_TE</th>\n",
       "      <th>P35</th>\n",
       "      <th>P241</th>\n",
       "      <th>MES_REF</th>\n",
       "      <th>P3031</th>\n",
       "      <th>P3032_1</th>\n",
       "      <th>P3032_2</th>\n",
       "      <th>P3032_3</th>\n",
       "      <th>P3033</th>\n",
       "      <th>P3034</th>\n",
       "      <th>P3035</th>\n",
       "      <th>P3000</th>\n",
       "      <th>GRUPOS4</th>\n",
       "      <th>GRUPOS12</th>\n",
       "      <th>F_EXP</th>\n",
       "    </tr>\n",
       "  </thead>\n",
       "  <tbody>\n",
       "    <tr>\n",
       "      <th>0</th>\n",
       "      <td>7627444</td>\n",
       "      <td>1</td>\n",
       "      <td>1</td>\n",
       "      <td>44</td>\n",
       "      <td>NaN</td>\n",
       "      <td>2</td>\n",
       "      <td>2</td>\n",
       "      <td>33</td>\n",
       "      <td>ENERO</td>\n",
       "      <td>2</td>\n",
       "      <td>NaN</td>\n",
       "      <td>NaN</td>\n",
       "      <td>NaN</td>\n",
       "      <td>2</td>\n",
       "      <td>240</td>\n",
       "      <td>2</td>\n",
       "      <td>2</td>\n",
       "      <td>2</td>\n",
       "      <td>3</td>\n",
       "      <td>60.050515</td>\n",
       "    </tr>\n",
       "    <tr>\n",
       "      <th>1</th>\n",
       "      <td>7627446</td>\n",
       "      <td>1</td>\n",
       "      <td>1</td>\n",
       "      <td>44</td>\n",
       "      <td>NaN</td>\n",
       "      <td>2</td>\n",
       "      <td>1</td>\n",
       "      <td>31</td>\n",
       "      <td>ENERO</td>\n",
       "      <td>2</td>\n",
       "      <td>NaN</td>\n",
       "      <td>NaN</td>\n",
       "      <td>NaN</td>\n",
       "      <td>2</td>\n",
       "      <td>166</td>\n",
       "      <td>2</td>\n",
       "      <td>2</td>\n",
       "      <td>1</td>\n",
       "      <td>1</td>\n",
       "      <td>86.341075</td>\n",
       "    </tr>\n",
       "    <tr>\n",
       "      <th>2</th>\n",
       "      <td>7627449</td>\n",
       "      <td>1</td>\n",
       "      <td>1</td>\n",
       "      <td>68</td>\n",
       "      <td>NaN</td>\n",
       "      <td>1</td>\n",
       "      <td>2</td>\n",
       "      <td>42</td>\n",
       "      <td>ENERO</td>\n",
       "      <td>2</td>\n",
       "      <td>NaN</td>\n",
       "      <td>NaN</td>\n",
       "      <td>NaN</td>\n",
       "      <td>2</td>\n",
       "      <td>60</td>\n",
       "      <td>2</td>\n",
       "      <td>2</td>\n",
       "      <td>3</td>\n",
       "      <td>5</td>\n",
       "      <td>139.884518</td>\n",
       "    </tr>\n",
       "    <tr>\n",
       "      <th>3</th>\n",
       "      <td>7627453</td>\n",
       "      <td>1</td>\n",
       "      <td>2</td>\n",
       "      <td>68</td>\n",
       "      <td>NaN</td>\n",
       "      <td>1</td>\n",
       "      <td>2</td>\n",
       "      <td>41</td>\n",
       "      <td>ENERO</td>\n",
       "      <td>2</td>\n",
       "      <td>NaN</td>\n",
       "      <td>NaN</td>\n",
       "      <td>NaN</td>\n",
       "      <td>2</td>\n",
       "      <td>60</td>\n",
       "      <td>2</td>\n",
       "      <td>2</td>\n",
       "      <td>4</td>\n",
       "      <td>7</td>\n",
       "      <td>168.635440</td>\n",
       "    </tr>\n",
       "    <tr>\n",
       "      <th>4</th>\n",
       "      <td>7627456</td>\n",
       "      <td>1</td>\n",
       "      <td>3</td>\n",
       "      <td>68</td>\n",
       "      <td>NaN</td>\n",
       "      <td>1</td>\n",
       "      <td>1</td>\n",
       "      <td>18</td>\n",
       "      <td>ENERO</td>\n",
       "      <td>2</td>\n",
       "      <td>NaN</td>\n",
       "      <td>NaN</td>\n",
       "      <td>NaN</td>\n",
       "      <td>2</td>\n",
       "      <td>9</td>\n",
       "      <td>2</td>\n",
       "      <td>2</td>\n",
       "      <td>4</td>\n",
       "      <td>6</td>\n",
       "      <td>64.659273</td>\n",
       "    </tr>\n",
       "  </tbody>\n",
       "</table>\n",
       "</div>"
      ],
      "text/plain": [
       "   DIRECTORIO  SECUENCIA_P  SECUENCIA_ENCUESTA  COD_DEPTO  AREA  CLASE_TE  \\\n",
       "0     7627444            1                   1         44   NaN         2   \n",
       "1     7627446            1                   1         44   NaN         2   \n",
       "2     7627449            1                   1         68   NaN         1   \n",
       "3     7627453            1                   2         68   NaN         1   \n",
       "4     7627456            1                   3         68   NaN         1   \n",
       "\n",
       "   P35  P241 MES_REF  P3031  P3032_1  P3032_2  P3032_3  P3033  P3034  P3035  \\\n",
       "0    2    33   ENERO      2      NaN      NaN      NaN      2    240      2   \n",
       "1    1    31   ENERO      2      NaN      NaN      NaN      2    166      2   \n",
       "2    2    42   ENERO      2      NaN      NaN      NaN      2     60      2   \n",
       "3    2    41   ENERO      2      NaN      NaN      NaN      2     60      2   \n",
       "4    1    18   ENERO      2      NaN      NaN      NaN      2      9      2   \n",
       "\n",
       "   P3000  GRUPOS4  GRUPOS12       F_EXP  \n",
       "0      2        2         3   60.050515  \n",
       "1      2        1         1   86.341075  \n",
       "2      2        3         5  139.884518  \n",
       "3      2        4         7  168.635440  \n",
       "4      2        4         6   64.659273  "
      ]
     },
     "execution_count": 4,
     "metadata": {},
     "output_type": "execute_result"
    }
   ],
   "source": [
    "df_emicron.head()"
   ]
  },
  {
   "cell_type": "code",
   "execution_count": 5,
   "id": "5281729d",
   "metadata": {},
   "outputs": [
    {
     "name": "stdout",
     "output_type": "stream",
     "text": [
      "Población total expandida: 5297251\n"
     ]
    }
   ],
   "source": [
    "total = df_emicron[\"F_EXP\"].sum()\n",
    "print(\"Población total expandida:\", int(total))\n"
   ]
  },
  {
   "cell_type": "code",
   "execution_count": 19,
   "id": "00c5425f",
   "metadata": {},
   "outputs": [
    {
     "data": {
      "text/plain": [
       "Index(['DIRECTORIO', 'SECUENCIA_P', 'SECUENCIA_ENCUESTA', 'COD_DEPTO', 'AREA',\n",
       "       'CLASE_TE', 'P35', 'P241', 'MES_REF', 'P3031', 'P3032_1', 'P3032_2',\n",
       "       'P3032_3', 'P3033', 'P3034', 'P3035', 'P3000', 'GRUPOS4', 'GRUPOS12',\n",
       "       'F_EXP'],\n",
       "      dtype='object')"
      ]
     },
     "execution_count": 19,
     "metadata": {},
     "output_type": "execute_result"
    }
   ],
   "source": [
    "#Primero tenemos que determinar si estan las variables que necesitamos \n",
    "df_emicron.columns"
   ]
  },
  {
   "cell_type": "markdown",
   "id": "21bad944",
   "metadata": {},
   "source": [
    "PREGUNTAS : \n",
    "1. ¿Cuantos micronegocios existen en el quindio cuyos propietarios son hombres del quindio son entre 18 y 30 años ?"
   ]
  },
  {
   "cell_type": "code",
   "execution_count": 6,
   "id": "12a079a9",
   "metadata": {},
   "outputs": [
    {
     "name": "stdout",
     "output_type": "stream",
     "text": [
      "Micronegocios en Quindío con propietarios hombres de 18 a 30 años: 1929\n"
     ]
    }
   ],
   "source": [
    "# Filtrar Quindío (COD_DEPTO=63), hombres (P35=1), edad entre 18 y 30\n",
    "filtro = df_emicron[\n",
    "    (df_emicron[\"COD_DEPTO\"] == 63) &\n",
    "    (df_emicron[\"P35\"] == 1) &\n",
    "    (df_emicron[\"P241\"].between(18, 30))\n",
    "]\n",
    "\n",
    "# Calcular micronegocios expandidos\n",
    "total_quindio_hombres_18_30 = filtro[\"F_EXP\"].sum()\n",
    "\n",
    "print(\"Micronegocios en Quindío con propietarios hombres de 18 a 30 años:\",\n",
    "      round(total_quindio_hombres_18_30))\n"
   ]
  },
  {
   "cell_type": "markdown",
   "id": "4d9ed297",
   "metadata": {},
   "source": [
    "2. ¿cuantos micronegocios de la industria manufacturera existen en el departanmento de risaralda, cuyos propietarias son mujeres entre los 20 y 30 años?\n"
   ]
  },
  {
   "cell_type": "code",
   "execution_count": null,
   "id": "f7a9190c",
   "metadata": {},
   "outputs": [
    {
     "name": "stdout",
     "output_type": "stream",
     "text": [
      "Micronegocios de la industria manufacturera en Risaralda que son de mujeres entre los 20 y 30: 471\n"
     ]
    }
   ],
   "source": [
    "# Micronegocios de industria manufacturera en Risaralda\n",
    "# con propietarias mujeres entre 20 y 30 años\n",
    "#Ahora agregamos la varibale de interes que es GRUPOS4 que nos permite saber de que sector es la microempresa\n",
    "#GRUPO4=2 Industria manufacturera \n",
    "\n",
    "#Ahora agregamos esto a nuestro codigo pero cambiamos el P35 a 2 para referirnos a mujeres y el DPTO a 66 para referirnos a Risaralda \n",
    "micronegocio_manu_FR = df_emicron[(df_emicron[\"COD_DEPTO\"] == 66) & (df_emicron[\"P35\"] == 2) & (df_emicron[\"P241\"].between(20, 30)) & \n",
    "                                  (df_emicron['GRUPOS4'] == 2)]\n",
    "\n",
    "\n",
    "# Calcular micronegocios con F_EXP\n",
    "total_microMFR = micronegocio_manu_FR[\"F_EXP\"].sum()\n",
    "\n",
    "print(f\"Micronegocios de la industria manufacturera en Risaralda que son de mujeres entre los 20 y 30:\", int(total_microMFR))"
   ]
  },
  {
   "cell_type": "markdown",
   "id": "093fe89d",
   "metadata": {},
   "source": [
    "3. ¿Entre las cuidades de manizales, pereira y armenia. Cual de las 3 tieene mas micronegocios del sector comercio, cuyas propetarias son mujeres mayores a 40 años?"
   ]
  },
  {
   "cell_type": "code",
   "execution_count": 21,
   "id": "6fbe8c47",
   "metadata": {},
   "outputs": [
    {
     "name": "stdout",
     "output_type": "stream",
     "text": [
      "Micronegocios del sector comercio con propietarias mujeres >40 años:\n",
      "\n",
      "   COD_DEPTO        F_EXP               Ciudad\n",
      "0         17  1003.780635   Manizales (Caldas)\n",
      "2         66   703.997325  Pereira (Risaralda)\n",
      "1         63   111.276961    Armenia (Quindío)\n"
     ]
    }
   ],
   "source": [
    "# Filtrar micronegocios de comercio, mujeres >40, ciudades eje cafetero\n",
    "filtro_comercio = df_emicron[\n",
    "    (df_emicron[\"COD_DEPTO\"].isin([17, 66, 63])) &  # Manizales, Pereira, Armenia\n",
    "    (df_emicron[\"P35\"] == 2) &                      # Mujeres\n",
    "    (df_emicron[\"P241\"] > 40) &                     # Mayores de 40 años\n",
    "    (df_emicron[\"GRUPOS4\"] == 1)                    # Comercio\n",
    "]\n",
    "\n",
    "# Agrupar por ciudad y sumar con factor de expansión\n",
    "resultado = filtro_comercio.groupby(\"COD_DEPTO\")[\"F_EXP\"].sum().reset_index()\n",
    "\n",
    "# Mapeo de nombres de ciudades\n",
    "mapa_ciudades = {17: \"Manizales (Caldas)\", 66: \"Pereira (Risaralda)\", 63: \"Armenia (Quindío)\"}\n",
    "resultado[\"Ciudad\"] = resultado[\"COD_DEPTO\"].map(mapa_ciudades)\n",
    "\n",
    "# Ordenar de mayor a menor\n",
    "resultado = resultado.sort_values(\"F_EXP\", ascending=False)\n",
    "\n",
    "print(\"Micronegocios del sector comercio con propietarias mujeres >40 años:\\n\")\n",
    "print(resultado)\n"
   ]
  },
  {
   "cell_type": "markdown",
   "id": "11fcb174",
   "metadata": {},
   "source": [
    "4. ¿En la cuidad de armenia, cuantos micronegocios hay cuyos propetrios son hombres que no tiene  nombre comercial?"
   ]
  },
  {
   "cell_type": "code",
   "execution_count": 15,
   "id": "e6293fde",
   "metadata": {},
   "outputs": [
    {
     "name": "stdout",
     "output_type": "stream",
     "text": [
      "Micronegocios en Armenia con propietarios hombres y sin nombre comercial: 17566\n"
     ]
    }
   ],
   "source": [
    "# Micronegocios en Armenia con propietarios hombres y sin nombre comercial\n",
    "filtro_armenia = df_emicron[\n",
    "    (df_emicron[\"COD_DEPTO\"] == 63) &   # Armenia (Quindío)\n",
    "    (df_emicron[\"P35\"] == 1) &          # Hombres\n",
    "    (df_emicron[\"P3033\"] == 2)          # Sin nombre comercial\n",
    "]\n",
    "\n",
    "# Calcular población expandida\n",
    "total_armenia = filtro_armenia[\"F_EXP\"].sum()\n",
    "\n",
    "print(\"Micronegocios en Armenia con propietarios hombres y sin nombre comercial:\",\n",
    "      round(total_armenia))\n"
   ]
  }
 ],
 "metadata": {
  "kernelspec": {
   "display_name": "Python 3",
   "language": "python",
   "name": "python3"
  },
  "language_info": {
   "codemirror_mode": {
    "name": "ipython",
    "version": 3
   },
   "file_extension": ".py",
   "mimetype": "text/x-python",
   "name": "python",
   "nbconvert_exporter": "python",
   "pygments_lexer": "ipython3",
   "version": "3.12.1"
  }
 },
 "nbformat": 4,
 "nbformat_minor": 5
}
