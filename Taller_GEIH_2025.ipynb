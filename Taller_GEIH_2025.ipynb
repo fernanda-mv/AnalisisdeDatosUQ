{
  "cells": [
    {
      "cell_type": "markdown",
      "metadata": {
        "colab_type": "text",
        "id": "view-in-github"
      },
      "source": [
        "<a href=\"https://colab.research.google.com/github/fernanda-mv/AnalisisdeDatosUQ/blob/main/Taller_GEIH_2025.ipynb\" target=\"_parent\"><img src=\"https://colab.research.google.com/assets/colab-badge.svg\" alt=\"Open In Colab\"/></a>"
      ]
    },
    {
      "cell_type": "code",
      "execution_count": 1,
      "metadata": {},
      "outputs": [],
      "source": [
        "#Importanto las librerias necesarias para el analisi de la GEIH\n",
        "import pandas as pd\n",
        "import numpy as np"
      ]
    },
    {
      "cell_type": "code",
      "execution_count": 2,
      "metadata": {},
      "outputs": [
        {
          "name": "stderr",
          "output_type": "stream",
          "text": [
            "/tmp/ipykernel_12864/2314631276.py:8: DtypeWarning: Columns (28,89,133,147,158) have mixed types. Specify dtype option on import or set low_memory=False.\n",
            "  df_Ocupados= pd.read_csv( \"https://github.com/niconomist98/DataAnalyticsUQ/raw/refs/heads/main/Datos/GEIH2025/Ocupados.CSV\"\n",
            "/tmp/ipykernel_12864/2314631276.py:11: DtypeWarning: Columns (33) have mixed types. Specify dtype option on import or set low_memory=False.\n",
            "  df_FuerzaT= pd.read_csv( \"https://github.com/niconomist98/DataAnalyticsUQ/raw/refs/heads/main/Datos/GEIH2025/Fuerza%20de%20trabajo.CSV\"\n"
          ]
        }
      ],
      "source": [
        "#leyendo los datos de la GEIH \n",
        "df_cgsse= pd.read_csv( \"https://raw.githubusercontent.com/niconomist98/DataAnalyticsUQ/refs/heads/main/Datos/GEIH2025/cgsse.CSV\"\n",
        "                      ,encoding=\"latin\",sep=\";\")\n",
        "\n",
        "df_no_ocupados= pd.read_csv( \"https://raw.githubusercontent.com/niconomist98/DataAnalyticsUQ/refs/heads/main/Datos/GEIH2025/No%20ocupados.CSV\"\n",
        "                      ,encoding=\"latin\",sep=\";\")    \n",
        "\n",
        "df_Ocupados= pd.read_csv( \"https://github.com/niconomist98/DataAnalyticsUQ/raw/refs/heads/main/Datos/GEIH2025/Ocupados.CSV\"\n",
        "                      ,encoding=\"latin\",sep=\";\")\n",
        "\n",
        "df_FuerzaT= pd.read_csv( \"https://github.com/niconomist98/DataAnalyticsUQ/raw/refs/heads/main/Datos/GEIH2025/Fuerza%20de%20trabajo.CSV\"\n",
        "                      ,encoding=\"latin\",sep=\";\")                "
      ]
    }
  ],
  "metadata": {
    "colab": {
      "authorship_tag": "ABX9TyOVs75KpXpkUiUsorRUTqgc",
      "include_colab_link": true,
      "provenance": []
    },
    "kernelspec": {
      "display_name": "Python 3",
      "name": "python3"
    },
    "language_info": {
      "codemirror_mode": {
        "name": "ipython",
        "version": 3
      },
      "file_extension": ".py",
      "mimetype": "text/x-python",
      "name": "python",
      "nbconvert_exporter": "python",
      "pygments_lexer": "ipython3",
      "version": "3.12.1"
    }
  },
  "nbformat": 4,
  "nbformat_minor": 0
}
