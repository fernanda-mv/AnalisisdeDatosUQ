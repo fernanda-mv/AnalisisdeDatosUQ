{
  "cells": [
    {
      "cell_type": "markdown",
      "metadata": {
        "colab_type": "text",
        "id": "view-in-github"
      },
      "source": [
        "<a href=\"https://colab.research.google.com/github/fernanda-mv/AnalisisdeDatosUQ/blob/main/Taller_GEIH_2025.ipynb\" target=\"_parent\"><img src=\"https://colab.research.google.com/assets/colab-badge.svg\" alt=\"Open In Colab\"/></a>"
      ]
    },
    {
      "cell_type": "markdown",
      "metadata": {},
      "source": [
        "Codigo de Maria Fernanda Mora "
      ]
    },
    {
      "cell_type": "code",
      "execution_count": 1,
      "metadata": {},
      "outputs": [],
      "source": [
        "#Vamos a importar las librerias necesarias para el analisi de la GEIH\n",
        "import pandas as pd\n",
        "import numpy as np"
      ]
    },
    {
      "cell_type": "code",
      "execution_count": 2,
      "metadata": {},
      "outputs": [
        {
          "name": "stderr",
          "output_type": "stream",
          "text": [
            "/tmp/ipykernel_13710/3859890490.py:8: DtypeWarning: Columns (28,89,133,147,158) have mixed types. Specify dtype option on import or set low_memory=False.\n",
            "  df_ocupados= pd.read_csv( \"https://github.com/niconomist98/DataAnalyticsUQ/raw/refs/heads/main/Datos/GEIH2025/Ocupados.CSV\"\n",
            "/tmp/ipykernel_13710/3859890490.py:11: DtypeWarning: Columns (33) have mixed types. Specify dtype option on import or set low_memory=False.\n",
            "  df_ft= pd.read_csv( \"https://github.com/niconomist98/DataAnalyticsUQ/raw/refs/heads/main/Datos/GEIH2025/Fuerza%20de%20trabajo.CSV\"\n"
          ]
        }
      ],
      "source": [
        "#leyendo los datos de la GEIH \n",
        "df_cgsse= pd.read_csv( \"https://raw.githubusercontent.com/niconomist98/DataAnalyticsUQ/refs/heads/main/Datos/GEIH2025/cgsse.CSV\"\n",
        "                      ,encoding=\"latin\",sep=\";\")\n",
        "\n",
        "df_desocupados= pd.read_csv( \"https://raw.githubusercontent.com/niconomist98/DataAnalyticsUQ/refs/heads/main/Datos/GEIH2025/No%20ocupados.CSV\"\n",
        "                      ,encoding=\"latin\",sep=\";\")    \n",
        "\n",
        "df_ocupados= pd.read_csv( \"https://github.com/niconomist98/DataAnalyticsUQ/raw/refs/heads/main/Datos/GEIH2025/Ocupados.CSV\"\n",
        "                      ,encoding=\"latin\",sep=\";\")\n",
        "\n",
        "df_ft= pd.read_csv( \"https://github.com/niconomist98/DataAnalyticsUQ/raw/refs/heads/main/Datos/GEIH2025/Fuerza%20de%20trabajo.CSV\"\n",
        "                      ,encoding=\"latin\",sep=\";\")                "
      ]
    },
    {
      "cell_type": "markdown",
      "metadata": {},
      "source": [
        "1. Calculando la poblacion total de colombia:  Para el total nacional calcule :\n",
        " \n",
        "a. población total\n",
        "b. población en edad de trabajar\n",
        "c. población que no está en edad de trabajar\n",
        "d. población económicamente activa\n",
        "e. población económicamente inactiva\n",
        "f. tasa de ocupación\n",
        "g. tasa de desempleo\n"
      ]
    },
    {
      "cell_type": "code",
      "execution_count": 3,
      "metadata": {},
      "outputs": [
        {
          "name": "stdout",
          "output_type": "stream",
          "text": [
            "Población total de colombia: 52045001\n"
          ]
        }
      ],
      "source": [
        "ptc = df_cgsse[\"FEX_C18\"].sum()\n",
        "print('Población total de colombia:', int(ptc))"
      ]
    },
    {
      "cell_type": "code",
      "execution_count": 4,
      "metadata": {},
      "outputs": [
        {
          "name": "stdout",
          "output_type": "stream",
          "text": [
            "La poblacion total sin edad para trabajar es: 11391585\n",
            "La poblacion total con edad para trabjar es: 40653416\n"
          ]
        }
      ],
      "source": [
        "#Poblacion en edad de trabajar \n",
        "\n",
        "sin_edad_trabajar = df_cgsse[df_cgsse['P6040']<15]['FEX_C18'].sum()\n",
        "edad_trabajar = df_cgsse[df_cgsse['P6040']>=15]['FEX_C18'].sum() #PET\n",
        "\n",
        "\n",
        "print('La poblacion total sin edad para trabajar es:',int(sin_edad_trabajar))\n",
        "print('La poblacion total con edad para trabjar es:',int(edad_trabajar))"
      ]
    },
    {
      "cell_type": "code",
      "execution_count": 5,
      "metadata": {},
      "outputs": [
        {
          "name": "stdout",
          "output_type": "stream",
          "text": [
            "La poblacion economicamente activa es: 25974846\n",
            "La poblacion economicamente inactiva es: 14678569\n"
          ]
        }
      ],
      "source": [
        "#Calculado ahora la poblacion economicamente activa y definimos como poblacion activamente economica\n",
        "#Tenemos que usar el DSI dado que en el modulo de no ocupados contiene informacion de personas que no estan buscando trabajo \n",
        "#No ocupados para este analisis son los que estan buscando trabajo activamente DSI=1 \n",
        "pea = df_ocupados[\"FEX_C18\"].sum() + df_desocupados[df_desocupados['DSI']==1][\"FEX_C18\"].sum()\n",
        "\n",
        "#Tambien podriamos usar la variable FT=1 que es la fuerza de trabajo que cumple con las condiciones \n",
        "#Tiene trabajo o esta buscando trabajo\n",
        "\n",
        "#definimos la poblacion economicamente inactiva como\n",
        "#Usamos la columna FFT que son las personas fuera de la fuerza de trabajo \n",
        "pei = df_ft[df_ft['FFT']==1]['FEX_C18'].sum()\n",
        "\n",
        "print(f'La poblacion economicamente activa es:', int(pea))\n",
        "print(f'La poblacion economicamente inactiva es:', int(pei))"
      ]
    },
    {
      "cell_type": "code",
      "execution_count": 6,
      "metadata": {},
      "outputs": [
        {
          "name": "stdout",
          "output_type": "stream",
          "text": [
            "La tasa de ocupacion: 58.43%\n",
            "La tasa de desempleo es 8.55%\n"
          ]
        }
      ],
      "source": [
        "# Ahora vamos a calcular la tasa de ocupacion (TO)\n",
        "TO = (df_ocupados['FEX_C18'].sum() / edad_trabajar)\n",
        "\n",
        "print(f'La tasa de ocupacion: {TO:.2%}')\n",
        "\n",
        "#Calculando el desempleo (TD) tenemos que\n",
        "\n",
        "TD = (df_desocupados[df_desocupados['DSI']==1]['FEX_C18'].sum() / pea)\n",
        "print(f'La tasa de desempleo es {TD:.2%}')"
      ]
    },
    {
      "cell_type": "markdown",
      "metadata": {},
      "source": [
        "2. Calcule las tasas de desempleo para hombres y mujeres en todos los departamentos de colombia, cuales son los departamentos con mayores y menores tasas de desempleo ? \n"
      ]
    },
    {
      "cell_type": "code",
      "execution_count": 7,
      "metadata": {},
      "outputs": [
        {
          "name": "stdout",
          "output_type": "stream",
          "text": [
            "    DPTO     Sexo         TD\n",
            "0      5  Hombres   4.886691\n",
            "1      5  Mujeres   9.770415\n",
            "2      8  Hombres   6.301949\n",
            "3      8  Mujeres  10.232567\n",
            "4     11  Hombres   9.821256\n",
            "5     11  Mujeres   7.078481\n",
            "6     13  Hombres   4.791098\n",
            "7     13  Mujeres  12.028807\n",
            "8     15  Hombres   6.967972\n",
            "9     15  Mujeres   4.008697\n",
            "10    17  Hombres   5.583183\n",
            "11    17  Mujeres   7.677962\n",
            "12    18  Hombres   2.676220\n",
            "13    18  Mujeres  15.726909\n",
            "14    19  Hombres   3.390661\n",
            "15    19  Mujeres   5.146277\n",
            "16    20  Hombres   5.991357\n",
            "17    20  Mujeres  13.209651\n",
            "18    23  Hombres   5.832048\n",
            "19    23  Mujeres  19.837285\n"
          ]
        }
      ],
      "source": [
        "# Hacemos merge para tener el sexo en el dataset de desocupados\n",
        "df_desocupados_gen = pd.merge(\n",
        "    df_desocupados[df_desocupados[\"DSI\"]==1], \n",
        "    df_cgsse[['DIRECTORIO','SECUENCIA_P','ORDEN','P3271']], \n",
        "    on=['DIRECTORIO','SECUENCIA_P','ORDEN'], \n",
        "    how='left'\n",
        ")\n",
        "# Agrupamos por departamento y sexo\n",
        "desocupados_sexo = (\n",
        "    df_desocupados_gen.groupby(['DPTO','P3271'])['FEX_C18']\n",
        "    .sum()\n",
        "    .reset_index()\n",
        "    .rename(columns={'FEX_C18':'desocupados'})\n",
        ")\n",
        "\n",
        "# Ocupados también con sexo\n",
        "df_ocupados_gen = pd.merge(\n",
        "    df_ocupados, \n",
        "    df_cgsse[['DIRECTORIO','SECUENCIA_P','ORDEN','P3271']], \n",
        "    on=['DIRECTORIO','SECUENCIA_P','ORDEN'], \n",
        "    how='left'\n",
        ")\n",
        "\n",
        "ocupados_sexo = (\n",
        "    df_ocupados_gen.groupby(['DPTO','P3271'])['FEX_C18']\n",
        "    .sum()\n",
        "    .reset_index()\n",
        "    .rename(columns={'FEX_C18':'ocupados'})\n",
        ")\n",
        "\n",
        "# Unimos ocupados y desocupados para calcular la PEA\n",
        "pea_sexo = pd.merge(ocupados_sexo, desocupados_sexo, on=['DPTO','P3271'], how='outer').fillna(0)\n",
        "pea_sexo['PEA'] = pea_sexo['ocupados'] + pea_sexo['desocupados']\n",
        "\n",
        "# Calculamos la tasa de desempleo (TD)\n",
        "pea_sexo['TD'] = pea_sexo['desocupados'] / pea_sexo['PEA'] * 100\n",
        "\n",
        "# Reemplazamos sexo por etiquetas\n",
        "pea_sexo['Sexo'] = pea_sexo['P3271'].map({1:'Hombres', 2:'Mujeres'})\n",
        "\n",
        "# Mostramos la tabla final\n",
        "print(pea_sexo[['DPTO','Sexo','TD']].head(20))"
      ]
    },
    {
      "cell_type": "code",
      "execution_count": 8,
      "metadata": {},
      "outputs": [
        {
          "name": "stdout",
          "output_type": "stream",
          "text": [
            "Departamentos con MAYOR tasa de desempleo por sexo:\n",
            "    DPTO     Sexo         TD\n",
            "48    81  Hombres  18.057931\n",
            "49    81  Mujeres  31.660892\n",
            "\n",
            "Departamentos con MENOR tasa de desempleo por sexo:\n",
            "    DPTO     Sexo        TD\n",
            "56    91  Hombres  1.979606\n",
            "57    91  Mujeres  1.874288\n"
          ]
        }
      ],
      "source": [
        "# Mayor y menor TD por sexo\n",
        "td_max = pea_sexo.loc[pea_sexo.groupby(\"Sexo\")[\"TD\"].idxmax()]\n",
        "td_min = pea_sexo.loc[pea_sexo.groupby(\"Sexo\")[\"TD\"].idxmin()]\n",
        "\n",
        "print(\"Departamentos con MAYOR tasa de desempleo por sexo:\")\n",
        "print(td_max[['DPTO','Sexo','TD']])\n",
        "\n",
        "print(\"\\nDepartamentos con MENOR tasa de desempleo por sexo:\")\n",
        "print(td_min[['DPTO','Sexo','TD']])"
      ]
    },
    {
      "cell_type": "markdown",
      "metadata": {},
      "source": [
        "Podemos ver que el departamento con mayor desempleo lo que va en el 2025 es el 81 que corresponde a Arauca\n",
        "y con menor desempleo es 91 que es Amazonas "
      ]
    },
    {
      "cell_type": "markdown",
      "metadata": {},
      "source": [
        "3. Tomando en consideración únicamente los siguientes grupos de edad: \n",
        "\n",
        "18 a 24\n",
        "24 a 30\n",
        "30 a 40\n",
        "40 a 50 \n",
        "60 en adelante\n"
      ]
    },
    {
      "cell_type": "code",
      "execution_count": 9,
      "metadata": {},
      "outputs": [
        {
          "name": "stdout",
          "output_type": "stream",
          "text": [
            "Población desocupada en Quindío, Risaralda y Caldas: 103606\n"
          ]
        }
      ],
      "source": [
        "# 1. Filtrar desocupados en Quindío (63), Risaralda (66) y Caldas (17) ---\n",
        "df_desocupados_qrc = df_desocupados[\n",
        "    (df_desocupados[\"DSI\"] == 1) & \n",
        "    (df_desocupados[\"DPTO\"].isin([63, 66, 17]))\n",
        "]\n",
        "\n",
        "# Calcular total de población desocupada en Q, R, C\n",
        "PQRC = df_desocupados_qrc[\"FEX_C18\"].sum()\n",
        "print(f\"Población desocupada en Quindío, Risaralda y Caldas: {int(PQRC)}\")\n"
      ]
    },
    {
      "cell_type": "code",
      "execution_count": 10,
      "metadata": {},
      "outputs": [
        {
          "name": "stdout",
          "output_type": "stream",
          "text": [
            "Hombres desempleados: 54096\n",
            "Mujeres desempleadas: 49509\n"
          ]
        }
      ],
      "source": [
        "# 2. Hacer merge para traer el género (P3271: 1=Hombres, 2=Mujeres) ---\n",
        "df_desocupados_genero = pd.merge(\n",
        "    df_desocupados_qrc,\n",
        "    df_cgsse[[\"DIRECTORIO\", \"SECUENCIA_P\", \"ORDEN\", \"P3271\"]],\n",
        "    on=[\"DIRECTORIO\", \"SECUENCIA_P\", \"ORDEN\"],\n",
        "    how=\"left\"\n",
        ")\n",
        "\n",
        "# 3. Calcular hombres desocupados ---\n",
        "PHDO = df_desocupados_genero[df_desocupados_genero[\"P3271\"] == 1][\"FEX_C18\"].sum()\n",
        "print(f\"Hombres desempleados: {int(PHDO)}\")\n",
        "\n",
        "# 4. Calcular mujeres desocupadas ---\n",
        "PMDO = df_desocupados_genero[df_desocupados_genero[\"P3271\"] == 2][\"FEX_C18\"].sum()\n",
        "print(f\"Mujeres desempleadas: {int(PMDO)}\")"
      ]
    },
    {
      "cell_type": "code",
      "execution_count": 11,
      "metadata": {},
      "outputs": [],
      "source": [
        "#Tomando en consideración únicamente los siguientes grupos de edad \n",
        "# vamos ara cada uno de los departamentos, cual es el grupo de edad con mayor y menor tasa de desempleo ? \n",
        "\n",
        "def clasificar_edad(x):\n",
        "    if 18 <= x < 24:\n",
        "        return \"18-24\"\n",
        "    elif 24 <= x < 30:\n",
        "        return \"24-30\"\n",
        "    elif 30 <= x < 40:\n",
        "        return \"30-40\"\n",
        "    elif 40 <= x < 50:\n",
        "        return \"40-50\"\n",
        "    elif x >= 60:\n",
        "        return \"60+\"\n",
        "    else:\n",
        "        return \"Otros\"  # Para menores de 18 y personas entre 50-59 que no entran"
      ]
    },
    {
      "cell_type": "code",
      "execution_count": 13,
      "metadata": {},
      "outputs": [],
      "source": [
        "#Despues armamos la PEA por departamento y grupo de edad\n",
        "#Hacemos merge para traer la edad (P6040) tanto en ocupados como en desocupados.\n",
        "#Agrupamos por DPTO y grupo_edad.\n",
        "#Calculamos TD como antes\n",
        "# Crear columna grupo de edad en df_cgsse\n",
        "df_cgsse[\"grupo_edad\"] = df_cgsse[\"P6040\"].apply(clasificar_edad)\n",
        "\n",
        "# --- Desocupados con edad ---\n",
        "df_desocupados_gen = pd.merge(\n",
        "    df_desocupados[df_desocupados[\"DSI\"]==1],\n",
        "    df_cgsse[[\"DIRECTORIO\",\"SECUENCIA_P\",\"ORDEN\",\"grupo_edad\"]],\n",
        "    on=[\"DIRECTORIO\",\"SECUENCIA_P\",\"ORDEN\"],\n",
        "    how=\"left\"\n",
        ")\n",
        "\n",
        "desocupados_edad = (\n",
        "    df_desocupados_gen.groupby([\"DPTO\",\"grupo_edad\"])[\"FEX_C18\"]\n",
        "    .sum()\n",
        "    .reset_index()\n",
        "    .rename(columns={\"FEX_C18\":\"desocupados\"})\n",
        ")\n",
        "\n",
        "# --- Ocupados con edad ---\n",
        "df_ocupados_gen = pd.merge(\n",
        "    df_ocupados,\n",
        "    df_cgsse[[\"DIRECTORIO\",\"SECUENCIA_P\",\"ORDEN\",\"grupo_edad\"]],\n",
        "    on=[\"DIRECTORIO\",\"SECUENCIA_P\",\"ORDEN\"],\n",
        "    how=\"left\"\n",
        ")\n",
        "\n",
        "ocupados_edad = (\n",
        "    df_ocupados_gen.groupby([\"DPTO\",\"grupo_edad\"])[\"FEX_C18\"]\n",
        "    .sum()\n",
        "    .reset_index()\n",
        "    .rename(columns={\"FEX_C18\":\"ocupados\"})\n",
        ")\n",
        "\n",
        "# --- PEA y TD ---\n",
        "pea_edad = pd.merge(ocupados_edad, desocupados_edad, on=[\"DPTO\",\"grupo_edad\"], how=\"outer\").fillna(0)\n",
        "pea_edad[\"PEA\"] = pea_edad[\"ocupados\"] + pea_edad[\"desocupados\"]\n",
        "pea_edad[\"TD\"] = pea_edad[\"desocupados\"] / pea_edad[\"PEA\"] * 100\n"
      ]
    },
    {
      "cell_type": "code",
      "execution_count": 19,
      "metadata": {},
      "outputs": [
        {
          "name": "stdout",
          "output_type": "stream",
          "text": [
            "Grupo con MAYOR tasa de desempleo por departamento:\n",
            "     DPTO grupo_edad         TD\n",
            "0       5      18-24  17.685962\n",
            "6       8      18-24  22.406918\n",
            "12     11      18-24  17.797990\n",
            "18     13      18-24  29.157386\n",
            "25     15      24-30  14.491221\n",
            "30     17      18-24   9.972584\n",
            "36     18      18-24  21.686963\n",
            "43     19      24-30   7.775308\n",
            "48     20      18-24  19.042303\n",
            "54     23      18-24  31.660884\n",
            "60     25      18-24  15.618810\n",
            "66     27      18-24  21.102675\n",
            "72     41      18-24  14.602874\n",
            "79     44      24-30  24.685637\n",
            "84     47      18-24  20.675536\n",
            "90     50      18-24  13.483416\n",
            "96     52      18-24  16.529172\n",
            "102    54      18-24  28.074930\n",
            "109    63      24-30  14.237924\n",
            "114    66      18-24  15.173556\n",
            "120    68      18-24  23.222696\n",
            "127    70      24-30  22.884184\n",
            "132    73      18-24  19.348020\n",
            "138    76      18-24  17.821703\n",
            "144    81      18-24  61.095429\n",
            "150    85      18-24  27.966955\n",
            "156    86      18-24  44.878068\n",
            "163    88      24-30  23.449477\n",
            "171    91      40-50   4.647341\n",
            "175    94      24-30  12.782858\n",
            "180    95      18-24  17.005129\n",
            "188    97      30-40   7.678632\n",
            "192    99      18-24  23.026006\n",
            "\n",
            "Grupo con MENOR tasa de desempleo por departamento:\n",
            "     DPTO grupo_edad         TD\n",
            "4       5        60+   1.199292\n",
            "9       8      40-50   4.082692\n",
            "16     11        60+   5.426223\n",
            "22     13        60+   2.222537\n",
            "28     15        60+   0.440514\n",
            "34     17        60+   4.060989\n",
            "40     18        60+   1.244864\n",
            "46     19        60+   0.539495\n",
            "52     20        60+   0.644501\n",
            "58     23        60+   4.322568\n",
            "64     25        60+   4.202708\n",
            "70     27        60+   6.162454\n",
            "76     41        60+   0.950585\n",
            "82     44        60+   0.466427\n",
            "88     47        60+   3.495022\n",
            "94     50        60+   3.972646\n",
            "100    52        60+   2.122516\n",
            "106    54        60+   4.730661\n",
            "111    63      40-50   6.506359\n",
            "118    66        60+   3.639861\n",
            "124    68        60+   4.564159\n",
            "130    70        60+   2.869353\n",
            "136    73        60+   9.458632\n",
            "142    76        60+   5.954849\n",
            "147    81      40-50  12.725505\n",
            "154    85        60+   0.000000\n",
            "158    86      30-40  10.837416\n",
            "165    88      40-50   6.261247\n",
            "168    91      18-24   0.000000\n",
            "178    94        60+   0.000000\n",
            "182    95      30-40   6.376562\n",
            "186    97      18-24   0.000000\n",
            "196    99        60+   0.000000\n"
          ]
        }
      ],
      "source": [
        "# Filtramos solo los grupos válidos\n",
        "pea_edad = pea_edad[pea_edad[\"grupo_edad\"].isin([\"18-24\",\"24-30\",\"30-40\",\"40-50\",\"60+\"])] \n",
        "\n",
        "# Para cada departamento, el grupo de mayor y menor TD\n",
        "mayores = pea_edad.loc[pea_edad.groupby(\"DPTO\")[\"TD\"].idxmax()]\n",
        "menores = pea_edad.loc[pea_edad.groupby(\"DPTO\")[\"TD\"].idxmin()]\n",
        "\n",
        "print(\"Grupo con MAYOR tasa de desempleo por departamento:\")\n",
        "print(mayores[[\"DPTO\",\"grupo_edad\",\"TD\"]])\n",
        "\n",
        "print(\"\\nGrupo con MENOR tasa de desempleo por departamento:\")\n",
        "print(menores[[\"DPTO\",\"grupo_edad\",\"TD\"]])\n"
      ]
    },
    {
      "cell_type": "markdown",
      "metadata": {},
      "source": [
        "En la mayoría de los departamentos, el grupo con mayor tasa de desempleo corresponde a los jóvenes de 18 a 24 años,\n",
        "lo que refleja las dificultades de inserción laboral de esta población. En algunos casos, como Norte de Santander, \n",
        "Valle del Cauca o Bolívar, el grupo más afectado es el de 24 a 30 años, mostrando que la vulnerabilidad también alcanza \n",
        "a los adultos jóvenes. Existen excepciones aisladas en otros rangos de edad, pero en general el desempleo juvenil es el \n",
        "principal reto en el mercado laboral regional."
      ]
    },
    {
      "cell_type": "markdown",
      "metadata": {},
      "source": [
        "4. ¿Cuáles son los 3 departamentos con menor tasa de desempleo de mujeres entre los 18 y los 25 años ? "
      ]
    },
    {
      "cell_type": "code",
      "execution_count": 21,
      "metadata": {},
      "outputs": [
        {
          "name": "stdout",
          "output_type": "stream",
          "text": [
            "=== 3 departamentos con menor tasa de desempleo (Mujeres 18-24) ===\n",
            "               PEA  Desempleadas  Tasa_desempleo(%) Departamento\n",
            "DPTO                                                            \n",
            "63    10289.693612    654.189193           6.357713      QUINDIO\n",
            "19    37817.442681   2965.201120           7.840829        CAUCA\n",
            "41    19123.128493   1918.472193          10.032209        HUILA\n"
          ]
        }
      ],
      "source": [
        "# --- Tasas de desempleo de mujeres entre 18 y 24 años para cada departamento ---\n",
        "\n",
        "# Desempleadas (mujeres 18-24)\n",
        "desem = (\n",
        "    df_desocupados_gen[\n",
        "        (df_desocupados_gen[\"DSI\"] == 1) &\n",
        "        (df_desocupados_gen[\"P3271\"] == 2) &\n",
        "        (df_desocupados_gen[\"P6040\"].between(18, 24))\n",
        "    ]\n",
        "    .groupby(\"DPTO\")[\"FEX_C18\"].sum()\n",
        ")\n",
        "\n",
        "# Población económicamente activa (mujeres 18-24)\n",
        "persona_activa = (df_ft_gen[\n",
        "        (df_ft_gen[\"FT\"] == 1) &\n",
        "        (df_ft_gen[\"P3271\"] == 2) &\n",
        "        (df_ft_gen[\"P6040\"].between(18, 24))\n",
        "    ]\n",
        "    .groupby(\"DPTO\")[\"FEX_C18\"].sum()\n",
        ")\n",
        "\n",
        "# Construir DataFrame final (sin 0)\n",
        "resultado = pd.DataFrame({\n",
        "    \"PEA\": persona_activa,\n",
        "    \"Desempleadas\": desem\n",
        "})\n",
        "\n",
        "resultado[\"Tasa_desempleo(%)\"] = (resultado[\"Desempleadas\"] / resultado[\"PEA\"]) * 100\n",
        "\n",
        "# Diccionario limpio de nombres de departamentos\n",
        "dpto_nombre = {\n",
        "    91: 'AMAZONAS', 81: 'ARAUCA', 5: 'ANTIOQUIA', 8: 'ATLANTICO', 11: 'BOGOTA',\n",
        "    13: 'BOLIVAR', 15: 'BOYACA', 17: 'CALDAS', 18: 'CAQUETA', 19: 'CAUCA',\n",
        "    20: 'CESAR', 23: 'CORDOBA', 25: 'CUNDINAMARCA', 27: 'CHOCO', 41: 'HUILA',\n",
        "    44: 'GUAJIRA', 47: 'MAGDALENA', 50: 'META', 52: 'NARIÑO',\n",
        "    54: 'NORTE DE SANTANDER', 63: 'QUINDIO', 66: 'RISARALDA', 68: 'SANTANDER',\n",
        "    70: 'SUCRE', 73: 'TOLIMA', 76: 'VALLE DEL CAUCA', 86: 'PUTUMAYO',\n",
        "    88: 'SAN ANDRES', 90: 'CASANARE', 94: 'GUAINIA', 95: 'GUAVIARE',\n",
        "    97: 'VAUPES', 99: 'VICHADA'\n",
        "}\n",
        "\n",
        "resultado[\"Departamento\"] = resultado.index.map(dpto_nombre)\n",
        "\n",
        "# Ordenar de menor a mayor para obtener los 3 con menor tasa\n",
        "resultado = resultado.sort_values(by=\"Tasa_desempleo(%)\", ascending=True)\n",
        "\n",
        "print(\"=== 3 departamentos con menor tasa de desempleo (Mujeres 18-24) ===\")\n",
        "print(resultado.head(3))\n"
      ]
    },
    {
      "cell_type": "markdown",
      "metadata": {},
      "source": [
        "En el grupo de mujeres entre 18 y 24 años, los departamentos con menor tasa de desempleo son:\n",
        "\n",
        "1. Quindío con 6,36%, donde 10.289 mujeres conforman la PEA y alrededor de 654 se encuentran desempleadas.\n",
        "\n",
        "2. Cauca con 7,84%, en una PEA cercana a 37.817 mujeres, de las cuales 2.965 están desempleadas.\n",
        "\n",
        "3. Huila con 10,03%, con una PEA de 19.123 mujeres y cerca de 1.918 desempleadas.\n",
        "\n",
        "En conclusion estos tres departamentos muestran mejores condiciones relativas de inserción laboral para mujeres jóvenes en comparación con el resto del país, destacándose el Quindío como el de menor desempleo en este grupo etario."
      ]
    },
    {
      "cell_type": "markdown",
      "metadata": {},
      "source": [
        "5. Ahora Vamos a Calcule el promedio de ingresos laborales  de las personas residentes en los \n",
        "departamentos de Risaralda, Caldas , Quindío, Antioquia y Valle del Cauca."
      ]
    },
    {
      "cell_type": "code",
      "execution_count": null,
      "metadata": {},
      "outputs": [
        {
          "name": "stdout",
          "output_type": "stream",
          "text": [
            "      Departamento  Ingreso_promedio\n",
            "0        Antioquia      2.090819e+06\n",
            "1           Caldas      1.958683e+06\n",
            "2          Quindío      1.637336e+06\n",
            "3        Risaralda      1.621205e+06\n",
            "4  Valle del Cauca      1.698392e+06\n"
          ]
        },
        {
          "name": "stderr",
          "output_type": "stream",
          "text": [
            "/tmp/ipykernel_1670/522249388.py:11: FutureWarning: DataFrameGroupBy.apply operated on the grouping columns. This behavior is deprecated, and in a future version of pandas the grouping columns will be excluded from the operation. Either pass `include_groups=False` to exclude the groupings or explicitly select the grouping columns after groupby to silence this warning.\n",
            "  .apply(lambda x: (x[\"INGLABO\"] * x[\"FEX_C18\"]).sum() / x[\"FEX_C18\"].sum())\n"
          ]
        }
      ],
      "source": [
        "# Filtrar ocupados en los departamentos de interés\n",
        "deptos_interes = [66, 17, 63, 5, 76]  # 66=Risaralda, 17=Caldas, 63=Quindío, 5=Antioquia, 76=Valle del Cauca\n",
        "\n",
        "df_ingresos = df_ocupados[df_ocupados[\"DPTO\"].isin(deptos_interes)]\n",
        "\n",
        "# Calcular el promedio ponderado de ingresos laborales (INGLABO)\n",
        "promedios_ingresos = (\n",
        "    df_ingresos.groupby(\"DPTO\")\n",
        "    .apply(lambda x: (x[\"INGLABO\"] * x[\"FEX_C18\"]).sum() / x[\"FEX_C18\"].sum())\n",
        "    .reset_index(name=\"Ingreso_promedio\")\n",
        ")\n",
        "\n",
        "# Reemplazar códigos de departamentos por nombres\n",
        "mapa_dptos = {66:\"Risaralda\", 17:\"Caldas\", 63:\"Quindío\", 5:\"Antioquia\", 76:\"Valle del Cauca\"}\n",
        "promedios_ingresos[\"Departamento\"] = promedios_ingresos[\"DPTO\"].map(mapa_dptos)\n",
        "\n",
        "# Reordenar columnas\n",
        "promedios_ingresos = promedios_ingresos[[\"Departamento\",\"Ingreso_promedio\"]]\n",
        "\n",
        "print(promedios_ingresos)\n"
      ]
    },
    {
      "cell_type": "markdown",
      "metadata": {},
      "source": [
        "Los resultados muestran que en 2025 el ingreso laboral promedio más alto entre los departamentos \n",
        "analizados se encuentra en Antioquia (≈2,09 millones de pesos), seguido por Caldas (≈1,96 millones).\n",
        "En contraste, los ingresos más bajos se observan en Risaralda (≈1,62 millones) y Quindío (≈1,63 millones). \n",
        "Esto refleja una diferencia regional en el mercado laboral, donde Antioquia lidera en remuneración promedio,\n",
        "mientras que los departamentos del Eje Cafetero presentan ingresos más modestos."
      ]
    },
    {
      "cell_type": "markdown",
      "metadata": {},
      "source": [
        "6. Para los mismos departamentos del punto anterior, calcule el promedio de ingresos laborales de hombres y mujeres en los siguientes rangos de edad : \n",
        "-18 a 24\n",
        "-24 a 30\n",
        "-30 a 40\n",
        "-40 a 50 \n",
        "-60 en adelante "
      ]
    },
    {
      "cell_type": "code",
      "execution_count": 20,
      "metadata": {},
      "outputs": [],
      "source": [
        "# Definir función para agrupar edades\n",
        "def clasificar_edad(x):\n",
        "    if 18 <= x < 24:\n",
        "        return \"18-24\"\n",
        "    elif 24 <= x < 30:\n",
        "        return \"24-30\"\n",
        "    elif 30 <= x < 40:\n",
        "        return \"30-40\"\n",
        "    elif 40 <= x < 50:\n",
        "        return \"40-50\"\n",
        "    elif x >= 60:\n",
        "        return \"60+\"\n",
        "    else:\n",
        "        return None\n",
        "\n",
        "# Crear variable de grupo de edad\n",
        "df_cgsse[\"grupo_edad\"] = df_cgsse[\"P6040\"].apply(clasificar_edad)"
      ]
    },
    {
      "cell_type": "code",
      "execution_count": 21,
      "metadata": {},
      "outputs": [],
      "source": [
        "# Merge con ocupados para traer sexo y edad\n",
        "df_ocupados_gen = pd.merge(\n",
        "    df_ocupados,\n",
        "    df_cgsse[[\"DIRECTORIO\",\"SECUENCIA_P\",\"ORDEN\",\"P3271\",\"grupo_edad\"]],\n",
        "    on=[\"DIRECTORIO\",\"SECUENCIA_P\",\"ORDEN\"],\n",
        "    how=\"left\"\n",
        ")\n",
        "\n",
        "# Filtrar departamentos de interés\n",
        "deptos_interes = [66, 17, 63, 5, 76]\n",
        "df_filtrado = df_ocupados_gen[df_ocupados_gen[\"DPTO\"].isin(deptos_interes)]"
      ]
    },
    {
      "cell_type": "code",
      "execution_count": 22,
      "metadata": {},
      "outputs": [
        {
          "name": "stdout",
          "output_type": "stream",
          "text": [
            "   Departamento     Sexo grupo_edad  Ingreso_promedio\n",
            "0     Antioquia  Hombres      18-24      1.364005e+06\n",
            "1     Antioquia  Hombres      24-30      1.828144e+06\n",
            "2     Antioquia  Hombres      30-40      2.159206e+06\n",
            "3     Antioquia  Hombres      40-50      2.771747e+06\n",
            "4     Antioquia  Hombres        60+      1.738620e+06\n",
            "5     Antioquia  Mujeres      18-24      1.418639e+06\n",
            "6     Antioquia  Mujeres      24-30      1.837916e+06\n",
            "7     Antioquia  Mujeres      30-40      2.291801e+06\n",
            "8     Antioquia  Mujeres      40-50      2.111094e+06\n",
            "9     Antioquia  Mujeres        60+      1.510449e+06\n",
            "10       Caldas  Hombres      18-24      2.216063e+06\n",
            "11       Caldas  Hombres      24-30      1.754677e+06\n",
            "12       Caldas  Hombres      30-40      1.762301e+06\n",
            "13       Caldas  Hombres      40-50      2.470039e+06\n",
            "14       Caldas  Hombres        60+      2.309864e+06\n",
            "15       Caldas  Mujeres      18-24      1.133456e+06\n",
            "16       Caldas  Mujeres      24-30      1.832716e+06\n",
            "17       Caldas  Mujeres      30-40      1.990588e+06\n",
            "18       Caldas  Mujeres      40-50      2.186629e+06\n",
            "19       Caldas  Mujeres        60+      1.669178e+06\n"
          ]
        },
        {
          "name": "stderr",
          "output_type": "stream",
          "text": [
            "/tmp/ipykernel_1670/4127443079.py:4: FutureWarning: DataFrameGroupBy.apply operated on the grouping columns. This behavior is deprecated, and in a future version of pandas the grouping columns will be excluded from the operation. Either pass `include_groups=False` to exclude the groupings or explicitly select the grouping columns after groupby to silence this warning.\n",
            "  .apply(lambda x: (x[\"INGLABO\"] * x[\"FEX_C18\"]).sum() / x[\"FEX_C18\"].sum())\n"
          ]
        }
      ],
      "source": [
        "# Calcular promedio ponderado de ingresos por depto, sexo y grupo de edad\n",
        "prom_ingresos = (\n",
        "    df_filtrado.groupby([\"DPTO\",\"P3271\",\"grupo_edad\"])\n",
        "    .apply(lambda x: (x[\"INGLABO\"] * x[\"FEX_C18\"]).sum() / x[\"FEX_C18\"].sum())\n",
        "    .reset_index(name=\"Ingreso_promedio\")\n",
        ")\n",
        "\n",
        "# Mapear nombres de departamentos y sexo\n",
        "mapa_dptos = {66:\"Risaralda\", 17:\"Caldas\", 63:\"Quindío\", 5:\"Antioquia\", 76:\"Valle del Cauca\"}\n",
        "prom_ingresos[\"Departamento\"] = prom_ingresos[\"DPTO\"].map(mapa_dptos)\n",
        "prom_ingresos[\"Sexo\"] = prom_ingresos[\"P3271\"].map({1:\"Hombres\", 2:\"Mujeres\"})\n",
        "\n",
        "# Reordenar columnas\n",
        "prom_ingresos = prom_ingresos[[\"Departamento\",\"Sexo\",\"grupo_edad\",\"Ingreso_promedio\"]]\n",
        "\n",
        "print(prom_ingresos.head(20))"
      ]
    },
    {
      "cell_type": "markdown",
      "metadata": {},
      "source": [
        "Los resultados muestran que los ingresos laborales aumentan con la edad en la mayoría de los casos, alcanzando su punto más alto en el grupo de 40 a 50 años, tanto para hombres como para mujeres. También se observa que, salvo excepciones puntuales como en Caldas (jóvenes hombres 18–24), los hombres suelen tener ingresos promedio superiores a las mujeres en los mismos rangos de edad, lo que refleja una brecha salarial de género en los departamentos analizados."
      ]
    },
    {
      "cell_type": "markdown",
      "metadata": {},
      "source": [
        "7. Basado en la siguiente lista de códigos de oficios : \n",
        "¿Cuáles son los oficios con mayores promedios salariales a nivel nacional en general  ? \n"
      ]
    },
    {
      "cell_type": "code",
      "execution_count": 24,
      "metadata": {},
      "outputs": [
        {
          "name": "stdout",
          "output_type": "stream",
          "text": [
            "Index(['PERIODO', 'MES', 'PER', 'DIRECTORIO', 'SECUENCIA_P', 'ORDEN', 'HOGAR',\n",
            "       'REGIS', 'AREA', 'CLASE',\n",
            "       ...\n",
            "       'P1881', 'P1881S1', 'P1882', 'P7240', 'P7240S1', 'OCI', 'INGLABO',\n",
            "       'RAMA2D_R4', 'RAMA4D_R4', 'OFICIO_C8'],\n",
            "      dtype='object', length=202)\n"
          ]
        }
      ],
      "source": [
        "print(df_ocupados.columns)\n"
      ]
    },
    {
      "cell_type": "code",
      "execution_count": 29,
      "metadata": {},
      "outputs": [
        {
          "name": "stdout",
          "output_type": "stream",
          "text": [
            "     OFICIO_C8  Ingreso_promedio\n",
            "63        2267      5.176025e+07\n",
            "25        1349      1.673692e+07\n",
            "93        2523      1.100000e+07\n",
            "96        2612      1.040657e+07\n",
            "94        2529      1.015048e+07\n",
            "156       3321      9.351115e+06\n",
            "52        2212      8.946374e+06\n",
            "7         1211      8.923134e+06\n",
            "90        2513      8.852754e+06\n",
            "12        1222      8.541606e+06\n"
          ]
        },
        {
          "name": "stderr",
          "output_type": "stream",
          "text": [
            "/tmp/ipykernel_1670/1259098874.py:4: FutureWarning: DataFrameGroupBy.apply operated on the grouping columns. This behavior is deprecated, and in a future version of pandas the grouping columns will be excluded from the operation. Either pass `include_groups=False` to exclude the groupings or explicitly select the grouping columns after groupby to silence this warning.\n",
            "  .apply(lambda x: (x[\"INGLABO\"] * x[\"FEX_C18\"]).sum() / x[\"FEX_C18\"].sum())\n"
          ]
        }
      ],
      "source": [
        "# Calcular promedio ponderado de ingresos laborales por oficio (CIUO-08)\n",
        "ingresos_ciuo = (\n",
        "    df_ocupados.groupby(\"OFICIO_C8\")\n",
        "    .apply(lambda x: (x[\"INGLABO\"] * x[\"FEX_C18\"]).sum() / x[\"FEX_C18\"].sum())\n",
        "    .reset_index(name=\"Ingreso_promedio\")\n",
        ")\n",
        "\n",
        "# Ordenar de mayor a menor ingreso\n",
        "ingresos_ciuo = ingresos_ciuo.sort_values(\"Ingreso_promedio\", ascending=False)\n",
        "\n",
        "# Mostrar los 10 oficios mejor pagados\n",
        "print(ingresos_ciuo.head(10))\n",
        "\n"
      ]
    },
    {
      "cell_type": "markdown",
      "metadata": {},
      "source": [
        "Los oficios con mayores ingresos promedio en Colombia en 2025, según la GEIH, son:\n",
        "\n",
        "2267 – Conductores de camiones pesados y de alto tonelaje: sorprende al encabezar con un ingreso promedio superior a 51 millones de pesos, aunque es probable que corresponda a un error de registro o a valores atípicos, pues no es coherente con la estructura salarial real.\n",
        "\n",
        "1349 – Gerentes de servicios profesionales no clasificados: con ingresos de alrededor de 16,7 millones, representan altos cargos directivos en servicios especializados.\n",
        "\n",
        "2523 – Profesionales en análisis de bases de datos y redes: con ingresos cercanos a 11 millones, reflejan la alta demanda de perfiles en tecnología y análisis de información.\n",
        "\n",
        "2612 – Jueces y 2529 – Desarrolladores de software: ambos rondan los 10 millones, confirmando la relevancia de la justicia y las TIC como sectores de alta remuneración.\n",
        "\n",
        "3321 – Agentes de bolsa y financieros: con ingresos de 9,3 millones, destacan en el sector financiero.\n",
        "\n",
        "2212 – Médicos especialistas: con salarios de casi 9 millones, confirman la alta remuneración del sector salud.\n",
        "\n",
        "1211 – Directores generales y 1222 – Gerentes de finanzas: ambos sobre los 8,5 millones, ratifican que los cargos de dirección se mantienen entre los mejor pagados.\n",
        "\n",
        "En conclusion los mayores ingresos se concentran en cargos directivos, justicia, salud y tecnología, con casos atípicos en oficios operativos como transporte pesado, que probablemente responden a registros específicos o valores extremos en la encuesta"
      ]
    },
    {
      "cell_type": "markdown",
      "metadata": {},
      "source": [
        "8. Elija un código de oficio y , basado en los datos, concluya si  existen diferencias significativas entre los promedios  salariales de hombres y mujeres para dicho oficio en los departamentos de Caldas , Quindío, Antioquia y Valle del Cauca.\n"
      ]
    },
    {
      "cell_type": "code",
      "execution_count": null,
      "metadata": {},
      "outputs": [
        {
          "name": "stdout",
          "output_type": "stream",
          "text": [
            "      Departamento     Sexo  Ingreso_promedio\n",
            "0        Antioquia  Hombres      1.568818e+07\n",
            "1           Caldas  Hombres      4.913083e+06\n",
            "2           Caldas  Mujeres      1.000000e+07\n",
            "3          Quindío  Hombres      4.693600e+06\n",
            "4          Quindío  Mujeres      6.563233e+06\n",
            "5  Valle del Cauca  Hombres      7.000000e+06\n",
            "6  Valle del Cauca  Mujeres      1.291129e+07\n"
          ]
        },
        {
          "name": "stderr",
          "output_type": "stream",
          "text": [
            "/tmp/ipykernel_1670/3257977744.py:24: FutureWarning: DataFrameGroupBy.apply operated on the grouping columns. This behavior is deprecated, and in a future version of pandas the grouping columns will be excluded from the operation. Either pass `include_groups=False` to exclude the groupings or explicitly select the grouping columns after groupby to silence this warning.\n",
            "  .apply(lambda x: (x[\"INGLABO\"] * x[\"FEX_C18\"]).sum() / x[\"FEX_C18\"].sum())\n"
          ]
        }
      ],
      "source": [
        "# Oficio elegido (2212 = Médicos especialistas)\n",
        "codigo_oficio = 2212\n",
        "\n",
        "# Departamentos de interés\n",
        "deptos_interes = [17, 63, 5, 76]\n",
        "\n",
        "# Merge para traer sexo (P3271) desde df_cgsse\n",
        "df_ocupados_gen = pd.merge(\n",
        "    df_ocupados,\n",
        "    df_cgsse[[\"DIRECTORIO\",\"SECUENCIA_P\",\"ORDEN\",\"P3271\"]],\n",
        "    on=[\"DIRECTORIO\",\"SECUENCIA_P\",\"ORDEN\"],\n",
        "    how=\"left\"\n",
        ")\n",
        "\n",
        "# Filtrar por oficio y departamentos\n",
        "df_filtrado = df_ocupados_gen[\n",
        "    (df_ocupados_gen[\"OFICIO_C8\"] == codigo_oficio) &\n",
        "    (df_ocupados_gen[\"DPTO\"].isin(deptos_interes))\n",
        "]\n",
        "\n",
        "# Calcular promedio ponderado de ingresos por sexo y departamento\n",
        "promedios = (\n",
        "    df_filtrado.groupby([\"DPTO\",\"P3271\"])\n",
        "    .apply(lambda x: (x[\"INGLABO\"] * x[\"FEX_C18\"]).sum() / x[\"FEX_C18\"].sum())\n",
        "    .reset_index(name=\"Ingreso_promedio\")\n",
        ")\n",
        "\n",
        "# Mapear nombres\n",
        "mapa_dptos = {17:\"Caldas\", 63:\"Quindío\", 5:\"Antioquia\", 76:\"Valle del Cauca\"}\n",
        "promedios[\"Departamento\"] = promedios[\"DPTO\"].map(mapa_dptos)\n",
        "promedios[\"Sexo\"] = promedios[\"P3271\"].map({1:\"Hombres\", 2:\"Mujeres\"})\n",
        "\n",
        "# Reordenar columnas\n",
        "promedios = promedios[[\"Departamento\",\"Sexo\",\"Ingreso_promedio\"]]\n",
        "\n",
        "print(promedios)\n"
      ]
    },
    {
      "cell_type": "markdown",
      "metadata": {},
      "source": [
        "Los resultados muestran diferencias claras entre hombres y mujeres en el oficio analizado. En Antioquia los hombres presentan ingresos mucho más altos (≈15,7 millones). En contraste, en Caldas, Quindío y Valle del Cauca las mujeres superan a los hombres, llegando incluso a duplicar sus ingresos en algunos casos (ej. Valle del Cauca: 12,9 millones vs. 7 millones).\n",
        "\n",
        "En conclusión, sí existen diferencias significativas entre géneros, pero no son uniformes: en unos departamentos predominan los hombres y en otros las mujeres, lo que evidencia una brecha salarial variable por territorio dentro del mismo oficio."
      ]
    },
    {
      "cell_type": "markdown",
      "metadata": {},
      "source": [
        "9. En el departamento del Quindío cual es el oficio con mayor y menor  promedio salarial en hombres y mujeres? "
      ]
    },
    {
      "cell_type": "code",
      "execution_count": 31,
      "metadata": {},
      "outputs": [
        {
          "name": "stdout",
          "output_type": "stream",
          "text": [
            "Mayor salario Hombres:\n",
            "     OFICIO_C8  P3271  Ingreso_promedio     Sexo\n",
            "24       2142      1      7.986427e+06  Hombres\n",
            "\n",
            "Menor salario Hombres:\n",
            "      OFICIO_C8  P3271  Ingreso_promedio     Sexo\n",
            "183       7111      1               0.0  Hombres\n",
            "\n",
            "Mayor salario Mujeres:\n",
            "     OFICIO_C8  P3271  Ingreso_promedio     Sexo\n",
            "35       2212      2      6.563233e+06  Mujeres\n",
            "\n",
            "Menor salario Mujeres:\n",
            "      OFICIO_C8  P3271  Ingreso_promedio     Sexo\n",
            "206       7513      2               0.0  Mujeres\n"
          ]
        },
        {
          "name": "stderr",
          "output_type": "stream",
          "text": [
            "/tmp/ipykernel_1670/2031362416.py:14: FutureWarning: DataFrameGroupBy.apply operated on the grouping columns. This behavior is deprecated, and in a future version of pandas the grouping columns will be excluded from the operation. Either pass `include_groups=False` to exclude the groupings or explicitly select the grouping columns after groupby to silence this warning.\n",
            "  .apply(lambda x: (x[\"INGLABO\"] * x[\"FEX_C18\"]).sum() / x[\"FEX_C18\"].sum())\n"
          ]
        }
      ],
      "source": [
        "# Filtrar ocupados del Quindío y unir sexo\n",
        "df_ocupados_gen = pd.merge(\n",
        "    df_ocupados,\n",
        "    df_cgsse[[\"DIRECTORIO\",\"SECUENCIA_P\",\"ORDEN\",\"P3271\"]],\n",
        "    on=[\"DIRECTORIO\",\"SECUENCIA_P\",\"ORDEN\"],\n",
        "    how=\"left\"\n",
        ")\n",
        "\n",
        "df_quindio = df_ocupados_gen[df_ocupados_gen[\"DPTO\"] == 63]\n",
        "\n",
        "# Calcular promedio ponderado por oficio y sexo\n",
        "prom_quindio = (\n",
        "    df_quindio.groupby([\"OFICIO_C8\",\"P3271\"])\n",
        "    .apply(lambda x: (x[\"INGLABO\"] * x[\"FEX_C18\"]).sum() / x[\"FEX_C18\"].sum())\n",
        "    .reset_index(name=\"Ingreso_promedio\")\n",
        ")\n",
        "\n",
        "# Mapear sexo\n",
        "prom_quindio[\"Sexo\"] = prom_quindio[\"P3271\"].map({1:\"Hombres\", 2:\"Mujeres\"})\n",
        "\n",
        "# Oficio con mayor y menor ingreso para hombres\n",
        "max_hombres = prom_quindio[prom_quindio[\"Sexo\"]==\"Hombres\"].sort_values(\"Ingreso_promedio\", ascending=False).head(1)\n",
        "min_hombres = prom_quindio[prom_quindio[\"Sexo\"]==\"Hombres\"].sort_values(\"Ingreso_promedio\", ascending=True).head(1)\n",
        "\n",
        "# Oficio con mayor y menor ingreso para mujeres\n",
        "max_mujeres = prom_quindio[prom_quindio[\"Sexo\"]==\"Mujeres\"].sort_values(\"Ingreso_promedio\", ascending=False).head(1)\n",
        "min_mujeres = prom_quindio[prom_quindio[\"Sexo\"]==\"Mujeres\"].sort_values(\"Ingreso_promedio\", ascending=True).head(1)\n",
        "\n",
        "print(\"Mayor salario Hombres:\\n\", max_hombres)\n",
        "print(\"\\nMenor salario Hombres:\\n\", min_hombres)\n",
        "print(\"\\nMayor salario Mujeres:\\n\", max_mujeres)\n",
        "print(\"\\nMenor salario Mujeres:\\n\", min_mujeres)\n"
      ]
    },
    {
      "cell_type": "markdown",
      "metadata": {},
      "source": [
        "En el Quindío, el oficio mejor remunerado para los hombres es 2142 – Ingenieros electrónicos con un ingreso promedio de 7,98 millones de pesos.\n",
        "\n",
        "El oficio con menor remuneración entre los hombres es 7111 – Albañiles, que aparece con ingreso cero, lo cual probablemente refleja ausencia de registros válidos o subdeclaración de ingresos en la muestra.\n",
        "\n",
        "Para las mujeres, el mayor ingreso corresponde a 2212 – Médicos especialistas, con un promedio de 6,56 millones de pesos.\n",
        "\n",
        "El menor ingreso entre las mujeres se observa en 7513 – Trabajadoras de preparación de alimentos callejeros, también con valor cero, lo que igualmente refleja falta de ingresos reportados en la encuesta.\n",
        "\n",
        "Podemos decir que en el Quindío, los oficios mejor remunerados difieren por género (ingeniería electrónica en hombres, medicina especializada en mujeres), mientras que los más bajos muestran problemas de informalidad o subregistro en sectores como construcción y comercio informal de alimentos."
      ]
    }
  ],
  "metadata": {
    "colab": {
      "authorship_tag": "ABX9TyOVs75KpXpkUiUsorRUTqgc",
      "include_colab_link": true,
      "provenance": []
    },
    "kernelspec": {
      "display_name": "Python 3",
      "name": "python3"
    },
    "language_info": {
      "codemirror_mode": {
        "name": "ipython",
        "version": 3
      },
      "file_extension": ".py",
      "mimetype": "text/x-python",
      "name": "python",
      "nbconvert_exporter": "python",
      "pygments_lexer": "ipython3",
      "version": "3.12.1"
    }
  },
  "nbformat": 4,
  "nbformat_minor": 0
}
