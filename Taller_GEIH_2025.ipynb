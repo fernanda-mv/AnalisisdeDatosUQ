{
  "cells": [
    {
      "cell_type": "markdown",
      "metadata": {
        "colab_type": "text",
        "id": "view-in-github"
      },
      "source": [
        "<a href=\"https://colab.research.google.com/github/fernanda-mv/AnalisisdeDatosUQ/blob/main/Taller_GEIH_2025.ipynb\" target=\"_parent\"><img src=\"https://colab.research.google.com/assets/colab-badge.svg\" alt=\"Open In Colab\"/></a>"
      ]
    },
    {
      "cell_type": "code",
      "execution_count": 1,
      "metadata": {},
      "outputs": [],
      "source": [
        "#Importanto las librerias necesarias para el analisi de la GEIH\n",
        "import pandas as pd\n",
        "import numpy as np"
      ]
    },
    {
      "cell_type": "code",
      "execution_count": null,
      "metadata": {},
      "outputs": [
        {
          "name": "stderr",
          "output_type": "stream",
          "text": [
            "/tmp/ipykernel_12864/1854976553.py:8: DtypeWarning: Columns (28,89,133,147,158) have mixed types. Specify dtype option on import or set low_memory=False.\n",
            "  df_Ocupados= pd.read_csv( \"https://github.com/niconomist98/DataAnalyticsUQ/raw/refs/heads/main/Datos/GEIH2025/Ocupados.CSV\"\n",
            "/tmp/ipykernel_12864/1854976553.py:11: DtypeWarning: Columns (33) have mixed types. Specify dtype option on import or set low_memory=False.\n",
            "  df_FT= pd.read_csv( \"https://github.com/niconomist98/DataAnalyticsUQ/raw/refs/heads/main/Datos/GEIH2025/Fuerza%20de%20trabajo.CSV\"\n"
          ]
        }
      ],
      "source": [
        "#leyendo los datos de la GEIH \n",
        "df_cgsse= pd.read_csv( \"https://raw.githubusercontent.com/niconomist98/DataAnalyticsUQ/refs/heads/main/Datos/GEIH2025/cgsse.CSV\"\n",
        "                      ,encoding=\"latin\",sep=\";\")\n",
        "\n",
        "df_desocupados= pd.read_csv( \"https://raw.githubusercontent.com/niconomist98/DataAnalyticsUQ/refs/heads/main/Datos/GEIH2025/No%20ocupados.CSV\"\n",
        "                      ,encoding=\"latin\",sep=\";\")    \n",
        "\n",
        "df_Ocupados= pd.read_csv( \"https://github.com/niconomist98/DataAnalyticsUQ/raw/refs/heads/main/Datos/GEIH2025/Ocupados.CSV\"\n",
        "                      ,encoding=\"latin\",sep=\";\")\n",
        "\n",
        "df_ft= pd.read_csv( \"https://github.com/niconomist98/DataAnalyticsUQ/raw/refs/heads/main/Datos/GEIH2025/Fuerza%20de%20trabajo.CSV\"\n",
        "                      ,encoding=\"latin\",sep=\";\")                "
      ]
    },
    {
      "cell_type": "code",
      "execution_count": 12,
      "metadata": {},
      "outputs": [
        {
          "name": "stdout",
          "output_type": "stream",
          "text": [
            "Población total: 67856\n"
          ]
        }
      ],
      "source": [
        "poblacion_total = len(df_cgsse)\n",
        "print(\"Población total:\", poblacion_total)"
      ]
    },
    {
      "cell_type": "code",
      "execution_count": 20,
      "metadata": {},
      "outputs": [
        {
          "name": "stdout",
          "output_type": "stream",
          "text": [
            "La poblacion total sin edad para trabajar es: 8792393\n",
            "La poblacion total con edad para trabjar es: 43252607\n"
          ]
        }
      ],
      "source": [
        "#Poblacion en edad de trabajar \n",
        "\n",
        "sin_edad_trabajar = df_cgsse[df_cgsse['P6040']<12]['FEX_C18'].sum()\n",
        "edad_trabajar = df_cgsse[df_cgsse['P6040']>=12]['FEX_C18']\n",
        "total_edad_trabajar = df_cgsse[df_cgsse['P6040']>=12]['FEX_C18'].sum()\n",
        "\n",
        "print('La poblacion total sin edad para trabajar es:',int(sin_edad_trabajar))\n",
        "print('La poblacion total con edad para trabjar es:',int(total_edad_trabajar))"
      ]
    },
    {
      "cell_type": "code",
      "execution_count": 30,
      "metadata": {},
      "outputs": [],
      "source": [
        "# Ajusta aquí los nombres de las variables\n",
        "# Ejemplo: si las columnas se llaman \"dpto\" y \"Sexo\"\n",
        "col_dpto = \"dpto\"     # cambia si en tu archivo aparece diferente\n",
        "col_sexo = \"Sexo\"     # cambia si aparece como \"sexo\" o \"p6040\""
      ]
    },
    {
      "cell_type": "code",
      "execution_count": 35,
      "metadata": {},
      "outputs": [
        {
          "name": "stdout",
          "output_type": "stream",
          "text": [
            "Ocupados: ['PERIODO', 'MES', 'PER', 'DIRECTORIO', 'SECUENCIA_P', 'ORDEN', 'HOGAR', 'REGIS', 'AREA', 'CLASE', 'FEX_C18', 'DPTO', 'FT', 'P3044S2', 'P6440', 'P6450', 'P6460', 'P6460S1', 'P6400', 'P6410', 'P6422', 'P6420S2', 'P6424S1', 'P6424S2', 'P6424S3', 'P6424S5', 'P6426', 'P6430', 'P6430S1', 'P3045S1', 'P3045S2', 'P3045S3', 'P3046', 'P3363', 'P9440', 'P6500', 'P3364', 'P3364S1', 'P6510', 'P6510S1', 'P6510S2', 'P6590', 'P6590S1', 'P6600', 'P6600S1', 'P6610', 'P6610S1', 'P6620', 'P6620S1', 'P6585S1', 'P6585S1A1', 'P6585S1A2', 'P6585S2', 'P6585S2A1', 'P6585S2A2', 'P6585S3', 'P6585S3A1', 'P6585S3A2', 'P6585S4', 'P6585S4A1', 'P6585S4A2', 'P6545', 'P6545S1', 'P6545S2', 'P6580', 'P6580S1', 'P6580S2', 'P6630S1', 'P6630S1A1', 'P6630S2', 'P6630S2A1', 'P6630S3', 'P6630S3A1', 'P6630S4', 'P6630S4A1', 'P6630S6', 'P6630S6A1', 'P6640', 'P6640S1', 'P1800', 'P1800S1', 'P1801S1', 'P1801S2', 'P1801S3', 'P1802', 'P3047', 'P3048', 'P3049', 'P6765', 'P6765S1', 'P3051', 'P3052', 'P3053', 'P3365', 'P3365S1', 'P3054', 'P3054S1', 'P3055', 'P3055S1', 'P3056', 'P3057', 'P6760', 'P3058S1', 'P3058S2', 'P3058S3', 'P3058S4', 'P3058S5', 'P3059', 'P3061', 'P3062S1', 'P3062S2', 'P3062S3', 'P3062S4', 'P3062S5', 'P3062S6', 'P3062S7', 'P3062S8', 'P3062S9', 'P3063', 'P3063S1', 'P3064', 'P3064S1', 'P3065', 'P3066', 'P3067', 'P3067S1', 'P3067S2', 'P6775', 'P3068', 'P6750', 'P3073', 'P550', 'P6780', 'P6780S1', 'P1879', 'P1805', 'P6790', 'P6800', 'P6810', 'P6810S1', 'P6850', 'P6830', 'P6830S1', 'P3069', 'P6880', 'P6880S1', 'P6915', 'P6915S1', 'P6920', 'P6930', 'P6940', 'P6960', 'P6990', 'P9450', 'P7020', 'P760', 'P7026', 'P7028', 'P7028S1', 'P1880', 'P1880S1', 'P7040', 'P7045', 'P3071S3', 'P3072S2', 'P7050', 'P7070', 'P7075', 'P7077', 'P7090', 'P7100', 'P7110', 'P7120', 'P7130', 'P7140S1', 'P7140S2', 'P7140S3', 'P7140S4', 'P7140S5', 'P7140S6', 'P7140S7', 'P7140S8', 'P7140S9', 'P7140S9A1', 'P7150', 'P7160', 'P7170S1', 'P7170S5', 'P7170S6', 'P7180', 'P514', 'P515', 'P1881', 'P1881S1', 'P1882', 'P7240', 'P7240S1', 'OCI', 'INGLABO', 'RAMA2D_R4', 'RAMA4D_R4', 'OFICIO_C8']\n",
            "Desocupados: ['PERIODO', 'MES', 'PER', 'DIRECTORIO', 'SECUENCIA_P', 'ORDEN', 'HOGAR', 'REGIS', 'AREA', 'CLASE', 'FEX_C18', 'DPTO', 'FFT', 'DSI', 'P7250', 'P7280', 'P7280S1', 'P744', 'P3074', 'P7260', 'P1806', 'P7430', 'P7440', 'P7440S1', 'P7440S2', 'P7450', 'P7350', 'P7360', 'P9460', 'P1519', 'P1883', 'P7422', 'P7422S1', 'OFICIO1_C8', 'OFICIO2_C8', 'RAMA2D_D_R4', 'RAMA4D_D_R4']\n"
          ]
        }
      ],
      "source": [
        "print(\"Ocupados:\", df_Ocupados.columns.tolist())\n",
        "print(\"Desocupados:\", df_desocupados.columns.tolist())\n"
      ]
    },
    {
      "cell_type": "code",
      "execution_count": null,
      "metadata": {},
      "outputs": [
        {
          "ename": "SyntaxError",
          "evalue": "unterminated string literal (detected at line 1) (3951433038.py, line 1)",
          "output_type": "error",
          "traceback": [
            "  \u001b[36mCell\u001b[39m\u001b[36m \u001b[39m\u001b[32mIn[39]\u001b[39m\u001b[32m, line 1\u001b[39m\n\u001b[31m    \u001b[39m\u001b[31mdf_d = pd.merge(df_d, df_cgsse[['DIRECTORIO', 'SECUENCIA_P,df_ft = pd.merge(df_ft,'ORDEN','P3271']],\u001b[39m\n                                                                                                    ^\n\u001b[31mSyntaxError\u001b[39m\u001b[31m:\u001b[39m unterminated string literal (detected at line 1)\n"
          ]
        }
      ],
      "source": []
    }
  ],
  "metadata": {
    "colab": {
      "authorship_tag": "ABX9TyOVs75KpXpkUiUsorRUTqgc",
      "include_colab_link": true,
      "provenance": []
    },
    "kernelspec": {
      "display_name": "Python 3",
      "name": "python3"
    },
    "language_info": {
      "codemirror_mode": {
        "name": "ipython",
        "version": 3
      },
      "file_extension": ".py",
      "mimetype": "text/x-python",
      "name": "python",
      "nbconvert_exporter": "python",
      "pygments_lexer": "ipython3",
      "version": "3.12.1"
    }
  },
  "nbformat": 4,
  "nbformat_minor": 0
}
