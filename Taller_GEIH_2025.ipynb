{
  "cells": [
    {
      "cell_type": "markdown",
      "metadata": {
        "colab_type": "text",
        "id": "view-in-github"
      },
      "source": [
        "<a href=\"https://colab.research.google.com/github/fernanda-mv/AnalisisdeDatosUQ/blob/main/Taller_GEIH_2025.ipynb\" target=\"_parent\"><img src=\"https://colab.research.google.com/assets/colab-badge.svg\" alt=\"Open In Colab\"/></a>"
      ]
    },
    {
      "cell_type": "code",
      "execution_count": 4,
      "metadata": {},
      "outputs": [],
      "source": [
        "#Vamos a importar las librerias necesarias para el analisi de la GEIH\n",
        "import pandas as pd\n",
        "import numpy as np"
      ]
    },
    {
      "cell_type": "code",
      "execution_count": 5,
      "metadata": {},
      "outputs": [
        {
          "name": "stderr",
          "output_type": "stream",
          "text": [
            "/tmp/ipykernel_27234/3859890490.py:8: DtypeWarning: Columns (28,89,133,147,158) have mixed types. Specify dtype option on import or set low_memory=False.\n",
            "  df_ocupados= pd.read_csv( \"https://github.com/niconomist98/DataAnalyticsUQ/raw/refs/heads/main/Datos/GEIH2025/Ocupados.CSV\"\n",
            "/tmp/ipykernel_27234/3859890490.py:11: DtypeWarning: Columns (33) have mixed types. Specify dtype option on import or set low_memory=False.\n",
            "  df_ft= pd.read_csv( \"https://github.com/niconomist98/DataAnalyticsUQ/raw/refs/heads/main/Datos/GEIH2025/Fuerza%20de%20trabajo.CSV\"\n"
          ]
        }
      ],
      "source": [
        "#leyendo los datos de la GEIH \n",
        "df_cgsse= pd.read_csv( \"https://raw.githubusercontent.com/niconomist98/DataAnalyticsUQ/refs/heads/main/Datos/GEIH2025/cgsse.CSV\"\n",
        "                      ,encoding=\"latin\",sep=\";\")\n",
        "\n",
        "df_desocupados= pd.read_csv( \"https://raw.githubusercontent.com/niconomist98/DataAnalyticsUQ/refs/heads/main/Datos/GEIH2025/No%20ocupados.CSV\"\n",
        "                      ,encoding=\"latin\",sep=\";\")    \n",
        "\n",
        "df_ocupados= pd.read_csv( \"https://github.com/niconomist98/DataAnalyticsUQ/raw/refs/heads/main/Datos/GEIH2025/Ocupados.CSV\"\n",
        "                      ,encoding=\"latin\",sep=\";\")\n",
        "\n",
        "df_ft= pd.read_csv( \"https://github.com/niconomist98/DataAnalyticsUQ/raw/refs/heads/main/Datos/GEIH2025/Fuerza%20de%20trabajo.CSV\"\n",
        "                      ,encoding=\"latin\",sep=\";\")                "
      ]
    },
    {
      "cell_type": "code",
      "execution_count": 6,
      "metadata": {},
      "outputs": [
        {
          "name": "stdout",
          "output_type": "stream",
          "text": [
            "Población total de colombia: 52045001\n"
          ]
        }
      ],
      "source": [
        "# 1. Calculando la poblacion total de colombia: \n",
        "ptc = df_cgsse[\"FEX_C18\"].sum()\n",
        "print('Población total de colombia:', int(ptc))"
      ]
    },
    {
      "cell_type": "code",
      "execution_count": 7,
      "metadata": {},
      "outputs": [
        {
          "name": "stdout",
          "output_type": "stream",
          "text": [
            "La poblacion total sin edad para trabajar es: 11391585\n",
            "La poblacion total con edad para trabjar es: 40653416\n"
          ]
        }
      ],
      "source": [
        "#Poblacion en edad de trabajar \n",
        "\n",
        "sin_edad_trabajar = df_cgsse[df_cgsse['P6040']<15]['FEX_C18'].sum()\n",
        "edad_trabajar = df_cgsse[df_cgsse['P6040']>=15]['FEX_C18'].sum() #PET\n",
        "\n",
        "\n",
        "print('La poblacion total sin edad para trabajar es:',int(sin_edad_trabajar))\n",
        "print('La poblacion total con edad para trabjar es:',int(edad_trabajar))"
      ]
    },
    {
      "cell_type": "code",
      "execution_count": 8,
      "metadata": {},
      "outputs": [
        {
          "name": "stdout",
          "output_type": "stream",
          "text": [
            "La poblacion economicamente activa es: 25974846\n",
            "La poblacion economicamente inactiva es: 14678569\n"
          ]
        }
      ],
      "source": [
        "#Calculado ahora la poblacion economicamente activa y definimos como poblacion activamente economica\n",
        "#Tenemos que usar el DSI dado que en el modulo de no ocupados contiene informacion de personas que no estan buscando trabajo \n",
        "#No ocupados para este analisis son los que estan buscando trabajo activamente DSI=1 \n",
        "pea = df_ocupados[\"FEX_C18\"].sum() + df_desocupados[df_desocupados['DSI']==1][\"FEX_C18\"].sum()\n",
        "\n",
        "#Tambien podriamos usar la variable FT=1 que es la fuerza de trabajo que cumple con las condiciones \n",
        "#Tiene trabajo o esta buscando trabajo\n",
        "\n",
        "#definimos la poblacion economicamente inactiva como\n",
        "#Usamos la columna FFT que son las personas fuera de la fuerza de trabajo \n",
        "pei = df_ft[df_ft['FFT']==1]['FEX_C18'].sum()\n",
        "\n",
        "print(f'La poblacion economicamente activa es:', int(pea))\n",
        "print(f'La poblacion economicamente inactiva es:', int(pei))"
      ]
    },
    {
      "cell_type": "code",
      "execution_count": 9,
      "metadata": {},
      "outputs": [
        {
          "name": "stdout",
          "output_type": "stream",
          "text": [
            "La tasa de ocupacion: 58.43%\n",
            "La tasa de desempleo es 8.55%\n"
          ]
        }
      ],
      "source": [
        "# Ahora vamos a calcular la tasa de ocupacion (TO)\n",
        "TO = (df_ocupados['FEX_C18'].sum() / edad_trabajar)\n",
        "\n",
        "print(f'La tasa de ocupacion: {TO:.2%}')\n",
        "\n",
        "#Calculando el desempleo (TD) tenemos que\n",
        "\n",
        "TD = (df_desocupados[df_desocupados['DSI']==1]['FEX_C18'].sum() / pea)\n",
        "print(f'La tasa de desempleo es {TD:.2%}')"
      ]
    },
    {
      "cell_type": "code",
      "execution_count": 18,
      "metadata": {},
      "outputs": [
        {
          "name": "stdout",
          "output_type": "stream",
          "text": [
            "    DPTO     Sexo         TD\n",
            "0      5  Hombres   4.886691\n",
            "1      5  Mujeres   9.770415\n",
            "2      8  Hombres   6.301949\n",
            "3      8  Mujeres  10.232567\n",
            "4     11  Hombres   9.821256\n",
            "5     11  Mujeres   7.078481\n",
            "6     13  Hombres   4.791098\n",
            "7     13  Mujeres  12.028807\n",
            "8     15  Hombres   6.967972\n",
            "9     15  Mujeres   4.008697\n",
            "10    17  Hombres   5.583183\n",
            "11    17  Mujeres   7.677962\n",
            "12    18  Hombres   2.676220\n",
            "13    18  Mujeres  15.726909\n",
            "14    19  Hombres   3.390661\n",
            "15    19  Mujeres   5.146277\n",
            "16    20  Hombres   5.991357\n",
            "17    20  Mujeres  13.209651\n",
            "18    23  Hombres   5.832048\n",
            "19    23  Mujeres  19.837285\n"
          ]
        }
      ],
      "source": [
        "#Calcule las tasas de desempleo para hombres y mujeres en todos los departamentos de colombia,\n",
        "#cuales son los departamentos con mayores y menores tasas de desempleo ? \n",
        "# Hacemos merge para tener el sexo en el dataset de desocupados\n",
        "df_desocupados_gen = pd.merge(\n",
        "    df_desocupados[df_desocupados[\"DSI\"]==1], \n",
        "    df_cgsse[['DIRECTORIO','SECUENCIA_P','ORDEN','P3271']], \n",
        "    on=['DIRECTORIO','SECUENCIA_P','ORDEN'], \n",
        "    how='left'\n",
        ")\n",
        "# Agrupamos por departamento y sexo\n",
        "desocupados_sexo = (\n",
        "    df_desocupados_gen.groupby(['DPTO','P3271'])['FEX_C18']\n",
        "    .sum()\n",
        "    .reset_index()\n",
        "    .rename(columns={'FEX_C18':'desocupados'})\n",
        ")\n",
        "\n",
        "# Ocupados también con sexo\n",
        "df_ocupados_gen = pd.merge(\n",
        "    df_ocupados, \n",
        "    df_cgsse[['DIRECTORIO','SECUENCIA_P','ORDEN','P3271']], \n",
        "    on=['DIRECTORIO','SECUENCIA_P','ORDEN'], \n",
        "    how='left'\n",
        ")\n",
        "\n",
        "ocupados_sexo = (\n",
        "    df_ocupados_gen.groupby(['DPTO','P3271'])['FEX_C18']\n",
        "    .sum()\n",
        "    .reset_index()\n",
        "    .rename(columns={'FEX_C18':'ocupados'})\n",
        ")\n",
        "\n",
        "# Unimos ocupados y desocupados para calcular la PEA\n",
        "pea_sexo = pd.merge(ocupados_sexo, desocupados_sexo, on=['DPTO','P3271'], how='outer').fillna(0)\n",
        "pea_sexo['PEA'] = pea_sexo['ocupados'] + pea_sexo['desocupados']\n",
        "\n",
        "# Calculamos la tasa de desempleo (TD)\n",
        "pea_sexo['TD'] = pea_sexo['desocupados'] / pea_sexo['PEA'] * 100\n",
        "\n",
        "# Reemplazamos sexo por etiquetas\n",
        "pea_sexo['Sexo'] = pea_sexo['P3271'].map({1:'Hombres', 2:'Mujeres'})\n",
        "\n",
        "# Mostramos la tabla final\n",
        "print(pea_sexo[['DPTO','Sexo','TD']].head(20))"
      ]
    },
    {
      "cell_type": "code",
      "execution_count": 19,
      "metadata": {},
      "outputs": [
        {
          "name": "stdout",
          "output_type": "stream",
          "text": [
            "Departamentos con MAYOR tasa de desempleo por sexo:\n",
            "    DPTO     Sexo         TD\n",
            "48    81  Hombres  18.057931\n",
            "49    81  Mujeres  31.660892\n",
            "\n",
            "Departamentos con MENOR tasa de desempleo por sexo:\n",
            "    DPTO     Sexo        TD\n",
            "56    91  Hombres  1.979606\n",
            "57    91  Mujeres  1.874288\n"
          ]
        }
      ],
      "source": [
        "# Mayor y menor TD por sexo\n",
        "td_max = pea_sexo.loc[pea_sexo.groupby(\"Sexo\")[\"TD\"].idxmax()]\n",
        "td_min = pea_sexo.loc[pea_sexo.groupby(\"Sexo\")[\"TD\"].idxmin()]\n",
        "\n",
        "print(\"Departamentos con MAYOR tasa de desempleo por sexo:\")\n",
        "print(td_max[['DPTO','Sexo','TD']])\n",
        "\n",
        "print(\"\\nDepartamentos con MENOR tasa de desempleo por sexo:\")\n",
        "print(td_min[['DPTO','Sexo','TD']])"
      ]
    },
    {
      "cell_type": "code",
      "execution_count": null,
      "metadata": {},
      "outputs": [],
      "source": [
        "# podemos ver que el departamento con mayor desempleo lo que va en el 2025 es el 81 que corresponde a Arauca\n",
        "# y con menor desempleo es 91 que es Amazonas "
      ]
    },
    {
      "cell_type": "code",
      "execution_count": null,
      "metadata": {},
      "outputs": [
        {
          "name": "stdout",
          "output_type": "stream",
          "text": [
            " POBLACION DEL QUINDIO, RISARALDA y CALDAS: 778290\n"
          ]
        }
      ],
      "source": [
        "#Como podemos ver esta columna de genero no existe, entonces hacemos un merge para agregar nuestras columnas\n",
        "#Entonces vamos a separar entre hombres y mujeres \n",
        "#Vamos a calcular la peam y peah\n",
        "\n",
        "df_desocupados_ec = df_desocupados[(df_desocupados['DSI']==1) & (df_desocupados['DPTO']==63) | (df_desocupados['DPTO']==66) (df_desocupados['DPTO']==17)]\n",
        "PQRC = df_desocupados[(df_desocupados['DSI']==1) & (df_desocupados['DPTO']==63) | (df_desocupados['DPTO']==66) |(df_desocupados['DPTO']==17)]['FEX_C18'].sum()\n",
        "print(f' POBLACION DEL QUINDIO, RISARALDA y CALDAS:',int(PQRC))"
      ]
    },
    {
      "cell_type": "code",
      "execution_count": 12,
      "metadata": {},
      "outputs": [
        {
          "name": "stdout",
          "output_type": "stream",
          "text": [
            " Hombres desempleados: 262748\n",
            " Mujeres desempleados: 515542\n"
          ]
        }
      ],
      "source": [
        "#Ahora vamos a separarlos por genero\n",
        "\n",
        "df_desocupados_genero_ec = pd.merge(df_desocupados_ec, df_cgsse[['DIRECTORIO','SECUENCIA_P','ORDEN','P3271']],\n",
        "                       on=['DIRECTORIO','SECUENCIA_P','ORDEN'], how='left')\n",
        "\n",
        "PHDO = df_desocupados_genero_ec[df_desocupados_genero_ec['P3271']==1]['FEX_C18'].sum()\n",
        "PMDO = df_desocupados_genero_ec[df_desocupados_genero_ec['P3271']==2]['FEX_C18'].sum()\n",
        "print(f' Hombres desempleados:',int(PHDO))\n",
        "print(f' Mujeres desempleados:',int(PMDO))"
      ]
    },
    {
      "cell_type": "code",
      "execution_count": 20,
      "metadata": {},
      "outputs": [],
      "source": [
        "#Tomando en consideración únicamente los siguientes grupos de edad \n",
        "# vamos ara cada uno de los departamentos, cual es el grupo de edad con mayor y menor tasa de desempleo ? \n",
        "\n",
        "def clasificar_edad(x):\n",
        "    if 18 <= x < 24:\n",
        "        return \"18-24\"\n",
        "    elif 24 <= x < 30:\n",
        "        return \"24-30\"\n",
        "    elif 30 <= x < 40:\n",
        "        return \"30-40\"\n",
        "    elif 40 <= x < 50:\n",
        "        return \"40-50\"\n",
        "    elif x >= 60:\n",
        "        return \"60+\"\n",
        "    else:\n",
        "        return \"Otros\"  # Para menores de 18 y personas entre 50-59 que no entran"
      ]
    },
    {
      "cell_type": "code",
      "execution_count": 21,
      "metadata": {},
      "outputs": [],
      "source": [
        "#Despues armamos la PEA por departamento y grupo de edad\n",
        "#Hacemos merge para traer la edad (P6040) tanto en ocupados como en desocupados.\n",
        "#Agrupamos por DPTO y grupo_edad.\n",
        "#Calculamos TD como antes\n",
        "# Crear columna grupo de edad en df_cgsse\n",
        "df_cgsse[\"grupo_edad\"] = df_cgsse[\"P6040\"].apply(clasificar_edad)\n",
        "\n",
        "# --- Desocupados con edad ---\n",
        "df_desocupados_gen = pd.merge(\n",
        "    df_desocupados[df_desocupados[\"DSI\"]==1],\n",
        "    df_cgsse[[\"DIRECTORIO\",\"SECUENCIA_P\",\"ORDEN\",\"grupo_edad\"]],\n",
        "    on=[\"DIRECTORIO\",\"SECUENCIA_P\",\"ORDEN\"],\n",
        "    how=\"left\"\n",
        ")\n",
        "\n",
        "desocupados_edad = (\n",
        "    df_desocupados_gen.groupby([\"DPTO\",\"grupo_edad\"])[\"FEX_C18\"]\n",
        "    .sum()\n",
        "    .reset_index()\n",
        "    .rename(columns={\"FEX_C18\":\"desocupados\"})\n",
        ")\n",
        "\n",
        "# --- Ocupados con edad ---\n",
        "df_ocupados_gen = pd.merge(\n",
        "    df_ocupados,\n",
        "    df_cgsse[[\"DIRECTORIO\",\"SECUENCIA_P\",\"ORDEN\",\"grupo_edad\"]],\n",
        "    on=[\"DIRECTORIO\",\"SECUENCIA_P\",\"ORDEN\"],\n",
        "    how=\"left\"\n",
        ")\n",
        "\n",
        "ocupados_edad = (\n",
        "    df_ocupados_gen.groupby([\"DPTO\",\"grupo_edad\"])[\"FEX_C18\"]\n",
        "    .sum()\n",
        "    .reset_index()\n",
        "    .rename(columns={\"FEX_C18\":\"ocupados\"})\n",
        ")\n",
        "\n",
        "# --- PEA y TD ---\n",
        "pea_edad = pd.merge(ocupados_edad, desocupados_edad, on=[\"DPTO\",\"grupo_edad\"], how=\"outer\").fillna(0)\n",
        "pea_edad[\"PEA\"] = pea_edad[\"ocupados\"] + pea_edad[\"desocupados\"]\n",
        "pea_edad[\"TD\"] = pea_edad[\"desocupados\"] / pea_edad[\"PEA\"] * 100\n"
      ]
    },
    {
      "cell_type": "code",
      "execution_count": 22,
      "metadata": {},
      "outputs": [
        {
          "name": "stdout",
          "output_type": "stream",
          "text": [
            "Grupo con MAYOR tasa de desempleo por departamento:\n",
            "     DPTO grupo_edad         TD\n",
            "0       5      18-24  17.685962\n",
            "6       8      18-24  22.406918\n",
            "12     11      18-24  17.797990\n",
            "18     13      18-24  29.157386\n",
            "25     15      24-30  14.491221\n",
            "30     17      18-24   9.972584\n",
            "36     18      18-24  21.686963\n",
            "43     19      24-30   7.775308\n",
            "48     20      18-24  19.042303\n",
            "54     23      18-24  31.660884\n",
            "60     25      18-24  15.618810\n",
            "66     27      18-24  21.102675\n",
            "72     41      18-24  14.602874\n",
            "79     44      24-30  24.685637\n",
            "84     47      18-24  20.675536\n",
            "90     50      18-24  13.483416\n",
            "96     52      18-24  16.529172\n",
            "102    54      18-24  28.074930\n",
            "109    63      24-30  14.237924\n",
            "114    66      18-24  15.173556\n",
            "120    68      18-24  23.222696\n",
            "127    70      24-30  22.884184\n",
            "132    73      18-24  19.348020\n",
            "138    76      18-24  17.821703\n",
            "144    81      18-24  61.095429\n",
            "150    85      18-24  27.966955\n",
            "156    86      18-24  44.878068\n",
            "163    88      24-30  23.449477\n",
            "171    91      40-50   4.647341\n",
            "175    94      24-30  12.782858\n",
            "180    95      18-24  17.005129\n",
            "188    97      30-40   7.678632\n",
            "192    99      18-24  23.026006\n",
            "\n",
            "Grupo con MENOR tasa de desempleo por departamento:\n",
            "     DPTO grupo_edad         TD\n",
            "4       5        60+   1.199292\n",
            "9       8      40-50   4.082692\n",
            "16     11        60+   5.426223\n",
            "22     13        60+   2.222537\n",
            "28     15        60+   0.440514\n",
            "34     17        60+   4.060989\n",
            "40     18        60+   1.244864\n",
            "46     19        60+   0.539495\n",
            "52     20        60+   0.644501\n",
            "58     23        60+   4.322568\n",
            "64     25        60+   4.202708\n",
            "70     27        60+   6.162454\n",
            "76     41        60+   0.950585\n",
            "82     44        60+   0.466427\n",
            "88     47        60+   3.495022\n",
            "94     50        60+   3.972646\n",
            "100    52        60+   2.122516\n",
            "106    54        60+   4.730661\n",
            "111    63      40-50   6.506359\n",
            "118    66        60+   3.639861\n",
            "124    68        60+   4.564159\n",
            "130    70        60+   2.869353\n",
            "136    73        60+   9.458632\n",
            "142    76        60+   5.954849\n",
            "147    81      40-50  12.725505\n",
            "154    85        60+   0.000000\n",
            "158    86      30-40  10.837416\n",
            "165    88      40-50   6.261247\n",
            "168    91      18-24   0.000000\n",
            "178    94        60+   0.000000\n",
            "182    95      30-40   6.376562\n",
            "186    97      18-24   0.000000\n",
            "196    99        60+   0.000000\n"
          ]
        }
      ],
      "source": [
        "# Filtramos solo los grupos válidos\n",
        "pea_edad = pea_edad[pea_edad[\"grupo_edad\"].isin([\"18-24\",\"24-30\",\"30-40\",\"40-50\",\"60+\"])] \n",
        "\n",
        "# Para cada departamento, el grupo de mayor y menor TD\n",
        "mayores = pea_edad.loc[pea_edad.groupby(\"DPTO\")[\"TD\"].idxmax()]\n",
        "menores = pea_edad.loc[pea_edad.groupby(\"DPTO\")[\"TD\"].idxmin()]\n",
        "\n",
        "print(\"Grupo con MAYOR tasa de desempleo por departamento:\")\n",
        "print(mayores[[\"DPTO\",\"grupo_edad\",\"TD\"]])\n",
        "\n",
        "print(\"\\nGrupo con MENOR tasa de desempleo por departamento:\")\n",
        "print(menores[[\"DPTO\",\"grupo_edad\",\"TD\"]])\n"
      ]
    },
    {
      "cell_type": "code",
      "execution_count": null,
      "metadata": {},
      "outputs": [],
      "source": [
        "#En la mayoría de los departamentos, el grupo con mayor tasa de desempleo corresponde a los jóvenes de 18 a 24 años,\n",
        "#lo que refleja las dificultades de inserción laboral de esta población. En algunos casos, como Norte de Santander, \n",
        "#Valle del Cauca o Bolívar, el grupo más afectado es el de 24 a 30 años, mostrando que la vulnerabilidad también alcanza \n",
        "#a los adultos jóvenes. Existen excepciones aisladas en otros rangos de edad, pero en general el desempleo juvenil es el \n",
        "#principal reto en el mercado laboral regional."
      ]
    }
  ],
  "metadata": {
    "colab": {
      "authorship_tag": "ABX9TyOVs75KpXpkUiUsorRUTqgc",
      "include_colab_link": true,
      "provenance": []
    },
    "kernelspec": {
      "display_name": "Python 3",
      "name": "python3"
    },
    "language_info": {
      "codemirror_mode": {
        "name": "ipython",
        "version": 3
      },
      "file_extension": ".py",
      "mimetype": "text/x-python",
      "name": "python",
      "nbconvert_exporter": "python",
      "pygments_lexer": "ipython3",
      "version": "3.12.1"
    }
  },
  "nbformat": 4,
  "nbformat_minor": 0
}
